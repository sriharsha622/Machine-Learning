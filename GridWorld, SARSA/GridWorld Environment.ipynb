{
  "nbformat": 4,
  "nbformat_minor": 0,
  "metadata": {
    "colab": {
      "name": "likeshkr_gullapal_assignment4_checkpoint (3).ipynb",
      "provenance": [],
      "collapsed_sections": []
    },
    "kernelspec": {
      "name": "python3",
      "display_name": "Python 3"
    },
    "language_info": {
      "name": "python"
    }
  },
  "cells": [
    {
      "cell_type": "code",
      "source": [
        "! pip install gym"
      ],
      "metadata": {
        "colab": {
          "base_uri": "https://localhost:8080/"
        },
        "id": "By6wvzOqAh2W",
        "outputId": "8ae81538-2e81-4f82-c492-e3e0938799ae"
      },
      "execution_count": null,
      "outputs": [
        {
          "output_type": "stream",
          "name": "stdout",
          "text": [
            "Requirement already satisfied: gym in /usr/local/lib/python3.7/dist-packages (0.17.3)\n",
            "Requirement already satisfied: scipy in /usr/local/lib/python3.7/dist-packages (from gym) (1.4.1)\n",
            "Requirement already satisfied: cloudpickle<1.7.0,>=1.2.0 in /usr/local/lib/python3.7/dist-packages (from gym) (1.3.0)\n",
            "Requirement already satisfied: numpy>=1.10.4 in /usr/local/lib/python3.7/dist-packages (from gym) (1.21.6)\n",
            "Requirement already satisfied: pyglet<=1.5.0,>=1.4.0 in /usr/local/lib/python3.7/dist-packages (from gym) (1.5.0)\n",
            "Requirement already satisfied: future in /usr/local/lib/python3.7/dist-packages (from pyglet<=1.5.0,>=1.4.0->gym) (0.16.0)\n"
          ]
        }
      ]
    },
    {
      "cell_type": "code",
      "source": [
        "import numpy as np \n",
        "from gym import spaces \n",
        "import matplotlib.pyplot as plt\n"
      ],
      "metadata": {
        "id": "cWYWA0zjAqaJ"
      },
      "execution_count": 3,
      "outputs": []
    },
    {
      "cell_type": "code",
      "source": [
        "grid = np.zeros((4,4))\n",
        "print(grid)"
      ],
      "metadata": {
        "colab": {
          "base_uri": "https://localhost:8080/"
        },
        "id": "C3P40HXTBMN9",
        "outputId": "d1f1df7b-8c93-4287-b788-63b2a98a6c9e"
      },
      "execution_count": 5,
      "outputs": [
        {
          "output_type": "stream",
          "name": "stdout",
          "text": [
            "[[0. 0. 0. 0.]\n",
            " [0. 0. 0. 0.]\n",
            " [0. 0. 0. 0.]\n",
            " [0. 0. 0. 0.]]\n"
          ]
        }
      ]
    },
    {
      "cell_type": "code",
      "source": [
        "pos1 = [0,0]\n",
        "posr1 = [1,0]\n",
        "posr2 = [2,3]\n",
        "posb1 = [2,1]\n",
        "posb2 = [3,2]\n",
        "pos2 = [3,3]\n",
        "grid[tuple(pos1)] = 1\n",
        "grid[tuple(pos2)] = 6\n",
        "grid[tuple(posr1)] = -5\n",
        "grid[tuple(posr2)] = -5\n",
        "grid[tuple(posb1)] = 5\n",
        "grid[tuple(posb2)] = 5\n",
        "plt.imshow(grid)"
      ],
      "metadata": {
        "colab": {
          "base_uri": "https://localhost:8080/",
          "height": 287
        },
        "id": "-ayFdCDFBsRp",
        "outputId": "4ebc81d1-81e0-4cfa-c5ff-2bedc9917866"
      },
      "execution_count": 6,
      "outputs": [
        {
          "output_type": "execute_result",
          "data": {
            "text/plain": [
              "<matplotlib.image.AxesImage at 0x7fe420ab6810>"
            ]
          },
          "metadata": {},
          "execution_count": 6
        },
        {
          "output_type": "display_data",
          "data": {
            "text/plain": [
              "<Figure size 432x288 with 1 Axes>"
            ],
            "image/png": "[encoded data removed]"
          },
          "metadata": {
            "needs_background": "light"
          }
        }
      ]
    },
    {
      "cell_type": "code",
      "execution_count": 38,
      "metadata": {
        "id": "OSla8wHQ5XfW"
      },
      "outputs": [],
      "source": [
        "class GridWorld_Env:\n",
        "    def __init__(self) -> None:\n",
        "      super().__init__()\n",
        "      self.obs_space = spaces.Discrete(16)\n",
        "      self.act_space = spaces.Discrete(4)\n",
        "      self.max_tSteps = 20\n",
        "    # reset the agent when an episode begins    \n",
        "    def reset(self):\n",
        "        self.tStep = 0\n",
        "        self.agentPos = [0,0]\n",
        "        self.finalPos = [3,3]\n",
        "        self.posrock1 = [1,0]\n",
        "        self.posrock2 = [2,3]\n",
        "        self.posbatt1 = [2,1]\n",
        "        self.posbatt2 = [3,2]\n",
        "        pos= self.agentPos[0]*4+self.agentPos[1]\n",
        "        self.state = np.zeros((4,4))\n",
        "        self.state[tuple(self.agentPos)] = 1\n",
        "        self.state[tuple(self.finalPos)] = 6\n",
        "        self.state[tuple(self.posrock1)] = -5\n",
        "        self.state[tuple(self.posrock2)] = -5\n",
        "        self.state[tuple(self.posbatt1)] = 5\n",
        "        self.state[tuple(self.posbatt2)] = 5\n",
        "        obs = self.state.flatten()\n",
        "        return pos\n",
        "\n",
        "    # Agent takes the step, i.e. take action to interact with \n",
        "      \n",
        "    def step(self, action):\n",
        "        if action == 0: #down\n",
        "          self.agentPos[0] +=1\n",
        "          if self.agentPos[0] == 4:\n",
        "            self.agentPos[0] -=1\n",
        "        elif action == 1: #up\n",
        "          self.agentPos[0] -=1\n",
        "          if self.agentPos[0] == -1:\n",
        "            self.agentPos[0] +=1\n",
        "        elif action == 2: #right\n",
        "          self.agentPos[1] +=1\n",
        "          if self.agentPos[1] == 4:\n",
        "            self.agentPos[1] -=1\n",
        "        else: #left\n",
        "          self.agentPos[1] -=1\n",
        "          if self.agentPos[1] == -1:\n",
        "            self.agentPos[1] +=1\n",
        "        self.agentPos = np.clip(self.agentPos,0,3)\n",
        "        self.state = np.zeros((4,4))\n",
        "        self.finalPos = [3,3]\n",
        "        self.posrock1 = [1,0]\n",
        "        self.posrock2 = [2,3]\n",
        "        self.posbatt1 = [2,1]\n",
        "        self.posbatt2 = [3,2]\n",
        "        self.state[tuple(self.agentPos)] = 1\n",
        "        self.state[tuple(self.finalPos)] = 6\n",
        "        self.state[tuple(self.posrock1)] = -5\n",
        "        self.state[tuple(self.posrock2)] = -5\n",
        "        self.state[tuple(self.posbatt1)] = 5\n",
        "        self.state[tuple(self.posbatt2)] = 5\n",
        "        obs = self.state.flatten()\n",
        "        reward = 0\n",
        "        s_table=np.array([[0,1,2,3],[4,5,6,7],[8,9,10,11],[12,13,14,15]])\n",
        "        npos = s_table[tuple(self.agentPos)]\n",
        "\n",
        "        # r_table= np.array([[0,0,0,0],[-5,0,0,0],[0,5,0,-5],[0,0,5,6]])\n",
        "        # reward= r_table[tuple(self.agentPos)]\n",
        "        flag1 = 0\n",
        "        flag2 = 0\n",
        "        # flag3 = 0\n",
        "        # flag4 = 0\n",
        "        if (self.agentPos == self.finalPos).all():\n",
        "          reward += 6\n",
        "        if (self.agentPos == self.posrock1).all():\n",
        "          reward -=5\n",
        "        if (self.agentPos == self.posrock2).all():\n",
        "          reward -=5\n",
        "        if (self.agentPos == self.posbatt1).all() and flag1 ==0:\n",
        "          flag1 = 1\n",
        "          reward +=5\n",
        "        if (self.agentPos == self.posbatt2).all() and flag2 == 0:\n",
        "          flag2 =1\n",
        "          reward +=5\n",
        "        self.tStep +=1\n",
        "        done = True if (self.agentPos == self.finalPos).all() else False\n",
        "        done = True if self.tStep>=self.max_tSteps else done\n",
        "        return npos,reward,done\n",
        "    def render(self):\n",
        "      plt.imshow(self.state)\n"
      ]
    },
    {
      "cell_type": "code",
      "source": [
        "grid_env = GridWorld_Env()\n",
        "a = grid_env.reset()\n",
        "grid_env.render()"
      ],
      "metadata": {
        "colab": {
          "base_uri": "https://localhost:8080/",
          "height": 269
        },
        "id": "CHIe3uqXLHHV",
        "outputId": "5664ddea-cd80-4ad7-e73b-17c79955fb5b"
      },
      "execution_count": 36,
      "outputs": [
        {
          "output_type": "display_data",
          "data": {
            "text/plain": [
              "<Figure size 432x288 with 1 Axes>"
            ],
            "image/png": "[encoded data removed]"
          },
          "metadata": {
            "needs_background": "light"
          }
        }
      ]
    },
    {
      "cell_type": "code",
      "source": [
        "import  matplotlib.pyplot as plt"
      ],
      "metadata": {
        "id": "MegzJD4pSzoQ"
      },
      "execution_count": 9,
      "outputs": []
    },
    {
      "cell_type": "code",
      "source": [
        "action = 2\n",
        "final_rew = 0\n",
        "observation,reward,done = grid_env.step(action)\n",
        "grid_env.render()\n",
        "print(\"reward for action:  \",reward)\n",
        "final_rew += reward \n",
        "print(\"final reward:  \",final_rew)"
      ],
      "metadata": {
        "colab": {
          "base_uri": "https://localhost:8080/",
          "height": 304
        },
        "id": "IL-yuPRYLve3",
        "outputId": "802a84fe-f64e-455b-a2aa-2c9297158766"
      },
      "execution_count": 10,
      "outputs": [
        {
          "output_type": "stream",
          "name": "stdout",
          "text": [
            "reward for action:   0\n",
            "final reward:   0\n"
          ]
        },
        {
          "output_type": "display_data",
          "data": {
            "text/plain": [
              "<Figure size 432x288 with 1 Axes>"
            ],
            "image/png": "[encoded data removed]"
          },
          "metadata": {
            "needs_background": "light"
          }
        }
      ]
    },
    {
      "cell_type": "code",
      "source": [
        "action = 2\n",
        "observation,reward,done = grid_env.step(action)\n",
        "grid_env.render()\n",
        "print(\"reward for action:  \",reward)\n",
        "final_rew += reward \n",
        "print(\"final reward:  \",final_rew)"
      ],
      "metadata": {
        "colab": {
          "base_uri": "https://localhost:8080/",
          "height": 304
        },
        "id": "RDYHGbF3ZELq",
        "outputId": "450cb63f-f0aa-4d7d-9c01-0790ee9a7bde"
      },
      "execution_count": 11,
      "outputs": [
        {
          "output_type": "stream",
          "name": "stdout",
          "text": [
            "reward for action:   0\n",
            "final reward:   0\n"
          ]
        },
        {
          "output_type": "display_data",
          "data": {
            "text/plain": [
              "<Figure size 432x288 with 1 Axes>"
            ],
            "image/png": "[encoded data removed]"
          },
          "metadata": {
            "needs_background": "light"
          }
        }
      ]
    },
    {
      "cell_type": "code",
      "source": [
        "action = 2\n",
        "observation,reward,done = grid_env.step(action)\n",
        "grid_env.render()\n",
        "print(\"reward for action:  \",reward)\n",
        "final_rew += reward \n",
        "print(\"final reward:  \",final_rew)"
      ],
      "metadata": {
        "colab": {
          "base_uri": "https://localhost:8080/",
          "height": 304
        },
        "id": "C-VN9milZFZQ",
        "outputId": "f21fbba3-bf5b-4bac-f787-bbaad0c2bd25"
      },
      "execution_count": 12,
      "outputs": [
        {
          "output_type": "stream",
          "name": "stdout",
          "text": [
            "reward for action:   0\n",
            "final reward:   0\n"
          ]
        },
        {
          "output_type": "display_data",
          "data": {
            "text/plain": [
              "<Figure size 432x288 with 1 Axes>"
            ],
            "image/png": "[encoded data removed]"
          },
          "metadata": {
            "needs_background": "light"
          }
        }
      ]
    },
    {
      "cell_type": "code",
      "source": [
        "action = 0\n",
        "observation,reward,done = grid_env.step(action)\n",
        "grid_env.render()\n",
        "print(\"reward for action:  \",reward)\n",
        "final_rew += reward \n",
        "print(\"final reward:  \",final_rew)"
      ],
      "metadata": {
        "colab": {
          "base_uri": "https://localhost:8080/",
          "height": 304
        },
        "id": "tC1ZPGjVZGuN",
        "outputId": "6af2ee1a-fb0d-4f09-c2ea-4b20f4a27bc2"
      },
      "execution_count": 13,
      "outputs": [
        {
          "output_type": "stream",
          "name": "stdout",
          "text": [
            "reward for action:   0\n",
            "final reward:   0\n"
          ]
        },
        {
          "output_type": "display_data",
          "data": {
            "text/plain": [
              "<Figure size 432x288 with 1 Axes>"
            ],
            "image/png": "[encoded data removed]"
          },
          "metadata": {
            "needs_background": "light"
          }
        }
      ]
    },
    {
      "cell_type": "code",
      "source": [
        "action = 3\n",
        "observation,reward,done = grid_env.step(action)\n",
        "grid_env.render()\n",
        "print(\"reward for action:  \",reward)\n",
        "final_rew += reward \n",
        "print(\"final reward:  \",final_rew)"
      ],
      "metadata": {
        "colab": {
          "base_uri": "https://localhost:8080/",
          "height": 304
        },
        "id": "ceOPHoz1ZIL4",
        "outputId": "a50a3bb0-2434-46ee-b622-392e04c15897"
      },
      "execution_count": 14,
      "outputs": [
        {
          "output_type": "stream",
          "name": "stdout",
          "text": [
            "reward for action:   0\n",
            "final reward:   0\n"
          ]
        },
        {
          "output_type": "display_data",
          "data": {
            "text/plain": [
              "<Figure size 432x288 with 1 Axes>"
            ],
            "image/png": "[encoded data removed]"
          },
          "metadata": {
            "needs_background": "light"
          }
        }
      ]
    },
    {
      "cell_type": "code",
      "source": [
        "action = 3\n",
        "observation,reward,done = grid_env.step(action)\n",
        "grid_env.render()\n",
        "print(\"reward for action:  \",reward)\n",
        "final_rew += reward \n",
        "print(\"final reward:  \",final_rew)"
      ],
      "metadata": {
        "colab": {
          "base_uri": "https://localhost:8080/",
          "height": 304
        },
        "id": "B_idptUnZJoy",
        "outputId": "f4953f6e-e73f-4d76-b163-02e119f890a8"
      },
      "execution_count": 15,
      "outputs": [
        {
          "output_type": "stream",
          "name": "stdout",
          "text": [
            "reward for action:   0\n",
            "final reward:   0\n"
          ]
        },
        {
          "output_type": "display_data",
          "data": {
            "text/plain": [
              "<Figure size 432x288 with 1 Axes>"
            ],
            "image/png": "[encoded data removed]"
          },
          "metadata": {
            "needs_background": "light"
          }
        }
      ]
    },
    {
      "cell_type": "code",
      "source": [
        "action = 0\n",
        "observation,reward,done = grid_env.step(action)\n",
        "grid_env.render()\n",
        "print(\"reward for action:  \",reward)\n",
        "final_rew += reward \n",
        "print(\"final reward:  \",final_rew)"
      ],
      "metadata": {
        "colab": {
          "base_uri": "https://localhost:8080/",
          "height": 304
        },
        "id": "JifHthb2ZPxb",
        "outputId": "b6dc8ea4-1a6c-4e18-f776-9b7aa6da433a"
      },
      "execution_count": 16,
      "outputs": [
        {
          "output_type": "stream",
          "name": "stdout",
          "text": [
            "reward for action:   10\n",
            "final reward:   10\n"
          ]
        },
        {
          "output_type": "display_data",
          "data": {
            "text/plain": [
              "<Figure size 432x288 with 1 Axes>"
            ],
            "image/png": "[encoded data removed]"
          },
          "metadata": {
            "needs_background": "light"
          }
        }
      ]
    },
    {
      "cell_type": "code",
      "source": [
        "action = 2\n",
        "observation,reward,done = grid_env.step(action)\n",
        "grid_env.render()\n",
        "print(\"reward for action:  \",reward)\n",
        "final_rew += reward \n",
        "print(\"final reward:  \",final_rew)"
      ],
      "metadata": {
        "colab": {
          "base_uri": "https://localhost:8080/",
          "height": 304
        },
        "id": "4g5IZWUtZOvb",
        "outputId": "2dc9e0b8-6bec-4e63-fe30-c1695cd71afd"
      },
      "execution_count": 17,
      "outputs": [
        {
          "output_type": "stream",
          "name": "stdout",
          "text": [
            "reward for action:   0\n",
            "final reward:   10\n"
          ]
        },
        {
          "output_type": "display_data",
          "data": {
            "text/plain": [
              "<Figure size 432x288 with 1 Axes>"
            ],
            "image/png": "[encoded data removed]"
          },
          "metadata": {
            "needs_background": "light"
          }
        }
      ]
    },
    {
      "cell_type": "code",
      "source": [
        "action = 0\n",
        "observation,reward,done = grid_env.step(action)\n",
        "grid_env.render()\n",
        "print(\"reward for action:  \",reward)\n",
        "final_rew += reward \n",
        "print(\"final reward:  \",final_rew)"
      ],
      "metadata": {
        "colab": {
          "base_uri": "https://localhost:8080/",
          "height": 304
        },
        "id": "Kc-GLizmZRzB",
        "outputId": "32d0fda1-151a-4f70-c1a3-b4485eba55bd"
      },
      "execution_count": 18,
      "outputs": [
        {
          "output_type": "stream",
          "name": "stdout",
          "text": [
            "reward for action:   10\n",
            "final reward:   20\n"
          ]
        },
        {
          "output_type": "display_data",
          "data": {
            "text/plain": [
              "<Figure size 432x288 with 1 Axes>"
            ],
            "image/png": "[encoded data removed]"
          },
          "metadata": {
            "needs_background": "light"
          }
        }
      ]
    },
    {
      "cell_type": "code",
      "source": [
        "action = 2\n",
        "observation,reward,done = grid_env.step(action)\n",
        "grid_env.render()\n",
        "print(\"reward for action:  \",reward)\n",
        "final_rew += reward \n",
        "print(\"final reward:  \",final_rew)"
      ],
      "metadata": {
        "colab": {
          "base_uri": "https://localhost:8080/",
          "height": 304
        },
        "id": "nKnPxfqpZLlv",
        "outputId": "8dc986c4-3994-4141-98b5-2056d4413e94"
      },
      "execution_count": 19,
      "outputs": [
        {
          "output_type": "stream",
          "name": "stdout",
          "text": [
            "reward for action:   12\n",
            "final reward:   32\n"
          ]
        },
        {
          "output_type": "display_data",
          "data": {
            "text/plain": [
              "<Figure size 432x288 with 1 Axes>"
            ],
            "image/png": "[encoded data removed]"
          },
          "metadata": {
            "needs_background": "light"
          }
        }
      ]
    },
    {
      "cell_type": "code",
      "source": [
        "class RandomAgent:\n",
        "  def __init__(self, env):\n",
        "    self.env = env\n",
        "    self.obs_space = env.obs_space\n",
        "    self.act_space = env.act_space\n",
        "\n",
        "  def step(self, observation):\n",
        "    return np.random.choice(self.act_space.n)"
      ],
      "metadata": {
        "id": "zlPEr4km98Hi"
      },
      "execution_count": 20,
      "outputs": []
    },
    {
      "cell_type": "code",
      "source": [
        "from google.colab import widgets\n",
        "import time\n",
        "env = GridWorld_Env()\n",
        "agent = RandomAgent(env)\n",
        "\n",
        "obs = env.reset()\n",
        "done = False\n",
        "\n",
        "output_grid = widgets.Grid(1, 1)\n",
        "with output_grid.output_to(0, 0):\n",
        "  env.render()\n",
        "\n",
        "path = [2,2,2,0,3,3,0,2,2]\n",
        "finalReward = 0\n",
        "for i in path:\n",
        "    action = agent.step(obs)\n",
        "    action = i\n",
        "    obs, reward, done = env.step(action)\n",
        "    with output_grid.output_to(0, 0):\n",
        "      output_grid.clear_cell()\n",
        "      env.render()\n",
        "    time.sleep(1)"
      ],
      "metadata": {
        "colab": {
          "base_uri": "https://localhost:8080/",
          "height": 273
        },
        "id": "A6Sx390k-KIj",
        "outputId": "ba7d1598-b62e-4bec-84e3-1cb52276a218"
      },
      "execution_count": 25,
      "outputs": [
        {
          "output_type": "display_data",
          "data": {
            "text/plain": [
              "<IPython.core.display.HTML object>"
            ],
            "text/html": [
              "<style>\n",
              "       table#id6, #id6 > tbody > tr > th, #id6 > tbody > tr > td {\n",
              "         border: 1px solid lightgray;\n",
              "         border-collapse:collapse;\n",
              "         \n",
              "        }</style>"
            ]
          },
          "metadata": {}
        },
        {
          "output_type": "display_data",
          "data": {
            "text/plain": [
              "<IPython.core.display.HTML object>"
            ],
            "text/html": [
              "<table id=id6><tr><td id=id6-0-0></td></tr></table>"
            ]
          },
          "metadata": {}
        },
        {
          "output_type": "display_data",
          "data": {
            "text/plain": [
              "<IPython.core.display.Javascript object>"
            ],
            "application/javascript": [
              "window[\"ba5842de-d003-11ec-9922-0242ac1c0002\"] = google.colab.output.getActiveOutputArea();\n",
              "//# sourceURL=js_e63725f0b3"
            ]
          },
          "metadata": {}
        },
        {
          "output_type": "display_data",
          "data": {
            "text/plain": [
              "<IPython.core.display.Javascript object>"
            ],
            "application/javascript": [
              "window[\"ba58bb6a-d003-11ec-9922-0242ac1c0002\"] = document.querySelector(\"#id6-0-0\");\n",
              "//# sourceURL=js_e8c829a061"
            ]
          },
          "metadata": {}
        },
        {
          "output_type": "display_data",
          "data": {
            "text/plain": [
              "<IPython.core.display.Javascript object>"
            ],
            "application/javascript": [
              "window[\"ba591efc-d003-11ec-9922-0242ac1c0002\"] = google.colab.output.setActiveOutputArea(window[\"ba58bb6a-d003-11ec-9922-0242ac1c0002\"]);\n",
              "//# sourceURL=js_f022b60be7"
            ]
          },
          "metadata": {}
        },
        {
          "output_type": "display_data",
          "data": {
            "text/plain": [
              "<IPython.core.display.Javascript object>"
            ],
            "application/javascript": [
              "window[\"ba70804c-d003-11ec-9922-0242ac1c0002\"] = google.colab.output.setActiveOutputArea(window[\"ba5842de-d003-11ec-9922-0242ac1c0002\"]);\n",
              "//# sourceURL=js_9ab3cb9aca"
            ]
          },
          "metadata": {}
        },
        {
          "output_type": "display_data",
          "data": {
            "text/plain": [
              "<IPython.core.display.Javascript object>"
            ],
            "application/javascript": [
              "window[\"ba73cf72-d003-11ec-9922-0242ac1c0002\"] = google.colab.output.getActiveOutputArea();\n",
              "//# sourceURL=js_62acbcda93"
            ]
          },
          "metadata": {}
        },
        {
          "output_type": "display_data",
          "data": {
            "text/plain": [
              "<IPython.core.display.Javascript object>"
            ],
            "application/javascript": [
              "window[\"ba74457e-d003-11ec-9922-0242ac1c0002\"] = document.querySelector(\"#id6-0-0\");\n",
              "//# sourceURL=js_0f119d74c2"
            ]
          },
          "metadata": {}
        },
        {
          "output_type": "display_data",
          "data": {
            "text/plain": [
              "<IPython.core.display.Javascript object>"
            ],
            "application/javascript": [
              "window[\"ba751896-d003-11ec-9922-0242ac1c0002\"] = google.colab.output.setActiveOutputArea(window[\"ba74457e-d003-11ec-9922-0242ac1c0002\"]);\n",
              "//# sourceURL=js_96b94b73ac"
            ]
          },
          "metadata": {}
        },
        {
          "output_type": "display_data",
          "data": {
            "text/plain": [
              "<IPython.core.display.Javascript object>"
            ],
            "application/javascript": [
              "window[\"ba965fe2-d003-11ec-9922-0242ac1c0002\"] = google.colab.output.setActiveOutputArea(window[\"ba73cf72-d003-11ec-9922-0242ac1c0002\"]);\n",
              "//# sourceURL=js_85241122e8"
            ]
          },
          "metadata": {}
        },
        {
          "output_type": "display_data",
          "data": {
            "text/plain": [
              "<IPython.core.display.Javascript object>"
            ],
            "application/javascript": [
              "window[\"bb311b68-d003-11ec-9922-0242ac1c0002\"] = google.colab.output.getActiveOutputArea();\n",
              "//# sourceURL=js_b779012582"
            ]
          },
          "metadata": {}
        },
        {
          "output_type": "display_data",
          "data": {
            "text/plain": [
              "<IPython.core.display.Javascript object>"
            ],
            "application/javascript": [
              "window[\"bb317464-d003-11ec-9922-0242ac1c0002\"] = document.querySelector(\"#id6-0-0\");\n",
              "//# sourceURL=js_71e24db210"
            ]
          },
          "metadata": {}
        },
        {
          "output_type": "display_data",
          "data": {
            "text/plain": [
              "<IPython.core.display.Javascript object>"
            ],
            "application/javascript": [
              "window[\"bb31d346-d003-11ec-9922-0242ac1c0002\"] = google.colab.output.setActiveOutputArea(window[\"bb317464-d003-11ec-9922-0242ac1c0002\"]);\n",
              "//# sourceURL=js_48e69f7f64"
            ]
          },
          "metadata": {}
        },
        {
          "output_type": "display_data",
          "data": {
            "text/plain": [
              "<IPython.core.display.Javascript object>"
            ],
            "application/javascript": [
              "window[\"bb484ce8-d003-11ec-9922-0242ac1c0002\"] = google.colab.output.setActiveOutputArea(window[\"bb311b68-d003-11ec-9922-0242ac1c0002\"]);\n",
              "//# sourceURL=js_51e4d972cd"
            ]
          },
          "metadata": {}
        },
        {
          "output_type": "display_data",
          "data": {
            "text/plain": [
              "<IPython.core.display.Javascript object>"
            ],
            "application/javascript": [
              "window[\"bbe315b6-d003-11ec-9922-0242ac1c0002\"] = google.colab.output.getActiveOutputArea();\n",
              "//# sourceURL=js_013f041922"
            ]
          },
          "metadata": {}
        },
        {
          "output_type": "display_data",
          "data": {
            "text/plain": [
              "<IPython.core.display.Javascript object>"
            ],
            "application/javascript": [
              "window[\"bbe38104-d003-11ec-9922-0242ac1c0002\"] = document.querySelector(\"#id6-0-0\");\n",
              "//# sourceURL=js_c6f1a7d885"
            ]
          },
          "metadata": {}
        },
        {
          "output_type": "display_data",
          "data": {
            "text/plain": [
              "<IPython.core.display.Javascript object>"
            ],
            "application/javascript": [
              "window[\"bbe3e1d0-d003-11ec-9922-0242ac1c0002\"] = google.colab.output.setActiveOutputArea(window[\"bbe38104-d003-11ec-9922-0242ac1c0002\"]);\n",
              "//# sourceURL=js_74df6d953b"
            ]
          },
          "metadata": {}
        },
        {
          "output_type": "display_data",
          "data": {
            "text/plain": [
              "<IPython.core.display.Javascript object>"
            ],
            "application/javascript": [
              "window[\"bbf9932c-d003-11ec-9922-0242ac1c0002\"] = google.colab.output.setActiveOutputArea(window[\"bbe315b6-d003-11ec-9922-0242ac1c0002\"]);\n",
              "//# sourceURL=js_0f946b8f78"
            ]
          },
          "metadata": {}
        },
        {
          "output_type": "display_data",
          "data": {
            "text/plain": [
              "<IPython.core.display.Javascript object>"
            ],
            "application/javascript": [
              "window[\"bc95564a-d003-11ec-9922-0242ac1c0002\"] = google.colab.output.getActiveOutputArea();\n",
              "//# sourceURL=js_2da485e267"
            ]
          },
          "metadata": {}
        },
        {
          "output_type": "display_data",
          "data": {
            "text/plain": [
              "<IPython.core.display.Javascript object>"
            ],
            "application/javascript": [
              "window[\"bc95c864-d003-11ec-9922-0242ac1c0002\"] = document.querySelector(\"#id6-0-0\");\n",
              "//# sourceURL=js_7007920a66"
            ]
          },
          "metadata": {}
        },
        {
          "output_type": "display_data",
          "data": {
            "text/plain": [
              "<IPython.core.display.Javascript object>"
            ],
            "application/javascript": [
              "window[\"bc962804-d003-11ec-9922-0242ac1c0002\"] = google.colab.output.setActiveOutputArea(window[\"bc95c864-d003-11ec-9922-0242ac1c0002\"]);\n",
              "//# sourceURL=js_069ca0b7a2"
            ]
          },
          "metadata": {}
        },
        {
          "output_type": "display_data",
          "data": {
            "text/plain": [
              "<IPython.core.display.Javascript object>"
            ],
            "application/javascript": [
              "window[\"bcac381a-d003-11ec-9922-0242ac1c0002\"] = google.colab.output.setActiveOutputArea(window[\"bc95564a-d003-11ec-9922-0242ac1c0002\"]);\n",
              "//# sourceURL=js_3fe1a2c447"
            ]
          },
          "metadata": {}
        },
        {
          "output_type": "display_data",
          "data": {
            "text/plain": [
              "<IPython.core.display.Javascript object>"
            ],
            "application/javascript": [
              "window[\"bd483724-d003-11ec-9922-0242ac1c0002\"] = google.colab.output.getActiveOutputArea();\n",
              "//# sourceURL=js_d8e93d6499"
            ]
          },
          "metadata": {}
        },
        {
          "output_type": "display_data",
          "data": {
            "text/plain": [
              "<IPython.core.display.Javascript object>"
            ],
            "application/javascript": [
              "window[\"bd48a60a-d003-11ec-9922-0242ac1c0002\"] = document.querySelector(\"#id6-0-0\");\n",
              "//# sourceURL=js_4f1f1bd725"
            ]
          },
          "metadata": {}
        },
        {
          "output_type": "display_data",
          "data": {
            "text/plain": [
              "<IPython.core.display.Javascript object>"
            ],
            "application/javascript": [
              "window[\"bd492404-d003-11ec-9922-0242ac1c0002\"] = google.colab.output.setActiveOutputArea(window[\"bd48a60a-d003-11ec-9922-0242ac1c0002\"]);\n",
              "//# sourceURL=js_6811ae8e6e"
            ]
          },
          "metadata": {}
        },
        {
          "output_type": "display_data",
          "data": {
            "text/plain": [
              "<IPython.core.display.Javascript object>"
            ],
            "application/javascript": [
              "window[\"bd5f7466-d003-11ec-9922-0242ac1c0002\"] = google.colab.output.setActiveOutputArea(window[\"bd483724-d003-11ec-9922-0242ac1c0002\"]);\n",
              "//# sourceURL=js_77cd110888"
            ]
          },
          "metadata": {}
        },
        {
          "output_type": "display_data",
          "data": {
            "text/plain": [
              "<IPython.core.display.Javascript object>"
            ],
            "application/javascript": [
              "window[\"bdf9f3f6-d003-11ec-9922-0242ac1c0002\"] = google.colab.output.getActiveOutputArea();\n",
              "//# sourceURL=js_a9143b26a9"
            ]
          },
          "metadata": {}
        },
        {
          "output_type": "display_data",
          "data": {
            "text/plain": [
              "<IPython.core.display.Javascript object>"
            ],
            "application/javascript": [
              "window[\"bdfa3960-d003-11ec-9922-0242ac1c0002\"] = document.querySelector(\"#id6-0-0\");\n",
              "//# sourceURL=js_523fb21ece"
            ]
          },
          "metadata": {}
        },
        {
          "output_type": "display_data",
          "data": {
            "text/plain": [
              "<IPython.core.display.Javascript object>"
            ],
            "application/javascript": [
              "window[\"bdfa8140-d003-11ec-9922-0242ac1c0002\"] = google.colab.output.setActiveOutputArea(window[\"bdfa3960-d003-11ec-9922-0242ac1c0002\"]);\n",
              "//# sourceURL=js_34b3a805d9"
            ]
          },
          "metadata": {}
        },
        {
          "output_type": "display_data",
          "data": {
            "text/plain": [
              "<IPython.core.display.Javascript object>"
            ],
            "application/javascript": [
              "window[\"be10c2de-d003-11ec-9922-0242ac1c0002\"] = google.colab.output.setActiveOutputArea(window[\"bdf9f3f6-d003-11ec-9922-0242ac1c0002\"]);\n",
              "//# sourceURL=js_074d7adca5"
            ]
          },
          "metadata": {}
        },
        {
          "output_type": "display_data",
          "data": {
            "text/plain": [
              "<IPython.core.display.Javascript object>"
            ],
            "application/javascript": [
              "window[\"beaba952-d003-11ec-9922-0242ac1c0002\"] = google.colab.output.getActiveOutputArea();\n",
              "//# sourceURL=js_83b2cde35b"
            ]
          },
          "metadata": {}
        },
        {
          "output_type": "display_data",
          "data": {
            "text/plain": [
              "<IPython.core.display.Javascript object>"
            ],
            "application/javascript": [
              "window[\"beabf312-d003-11ec-9922-0242ac1c0002\"] = document.querySelector(\"#id6-0-0\");\n",
              "//# sourceURL=js_fe881bf47e"
            ]
          },
          "metadata": {}
        },
        {
          "output_type": "display_data",
          "data": {
            "text/plain": [
              "<IPython.core.display.Javascript object>"
            ],
            "application/javascript": [
              "window[\"beac3b06-d003-11ec-9922-0242ac1c0002\"] = google.colab.output.setActiveOutputArea(window[\"beabf312-d003-11ec-9922-0242ac1c0002\"]);\n",
              "//# sourceURL=js_dee71ddeaa"
            ]
          },
          "metadata": {}
        },
        {
          "output_type": "display_data",
          "data": {
            "text/plain": [
              "<IPython.core.display.Javascript object>"
            ],
            "application/javascript": [
              "window[\"bec31632-d003-11ec-9922-0242ac1c0002\"] = google.colab.output.setActiveOutputArea(window[\"beaba952-d003-11ec-9922-0242ac1c0002\"]);\n",
              "//# sourceURL=js_781696c4af"
            ]
          },
          "metadata": {}
        },
        {
          "output_type": "display_data",
          "data": {
            "text/plain": [
              "<IPython.core.display.Javascript object>"
            ],
            "application/javascript": [
              "window[\"bf5dbcf0-d003-11ec-9922-0242ac1c0002\"] = google.colab.output.getActiveOutputArea();\n",
              "//# sourceURL=js_c11e199de3"
            ]
          },
          "metadata": {}
        },
        {
          "output_type": "display_data",
          "data": {
            "text/plain": [
              "<IPython.core.display.Javascript object>"
            ],
            "application/javascript": [
              "window[\"bf5dffc6-d003-11ec-9922-0242ac1c0002\"] = document.querySelector(\"#id6-0-0\");\n",
              "//# sourceURL=js_8d1f3168e3"
            ]
          },
          "metadata": {}
        },
        {
          "output_type": "display_data",
          "data": {
            "text/plain": [
              "<IPython.core.display.Javascript object>"
            ],
            "application/javascript": [
              "window[\"bf5e429c-d003-11ec-9922-0242ac1c0002\"] = google.colab.output.setActiveOutputArea(window[\"bf5dffc6-d003-11ec-9922-0242ac1c0002\"]);\n",
              "//# sourceURL=js_47e6dc7464"
            ]
          },
          "metadata": {}
        },
        {
          "output_type": "display_data",
          "data": {
            "text/plain": [
              "<IPython.core.display.Javascript object>"
            ],
            "application/javascript": [
              "window[\"bf7437be-d003-11ec-9922-0242ac1c0002\"] = google.colab.output.setActiveOutputArea(window[\"bf5dbcf0-d003-11ec-9922-0242ac1c0002\"]);\n",
              "//# sourceURL=js_4a0f914841"
            ]
          },
          "metadata": {}
        },
        {
          "output_type": "display_data",
          "data": {
            "text/plain": [
              "<IPython.core.display.Javascript object>"
            ],
            "application/javascript": [
              "window[\"c00ebeba-d003-11ec-9922-0242ac1c0002\"] = google.colab.output.getActiveOutputArea();\n",
              "//# sourceURL=js_867bc43840"
            ]
          },
          "metadata": {}
        },
        {
          "output_type": "display_data",
          "data": {
            "text/plain": [
              "<IPython.core.display.Javascript object>"
            ],
            "application/javascript": [
              "window[\"c00f3700-d003-11ec-9922-0242ac1c0002\"] = document.querySelector(\"#id6-0-0\");\n",
              "//# sourceURL=js_c74c0ebbad"
            ]
          },
          "metadata": {}
        },
        {
          "output_type": "display_data",
          "data": {
            "text/plain": [
              "<IPython.core.display.Javascript object>"
            ],
            "application/javascript": [
              "window[\"c00f8e94-d003-11ec-9922-0242ac1c0002\"] = google.colab.output.setActiveOutputArea(window[\"c00f3700-d003-11ec-9922-0242ac1c0002\"]);\n",
              "//# sourceURL=js_8db7a4aae6"
            ]
          },
          "metadata": {}
        },
        {
          "output_type": "display_data",
          "data": {
            "text/plain": [
              "<Figure size 432x288 with 1 Axes>"
            ],
            "image/png": "[encoded data removed]"
          },
          "metadata": {
            "needs_background": "light"
          }
        },
        {
          "output_type": "display_data",
          "data": {
            "text/plain": [
              "<IPython.core.display.Javascript object>"
            ],
            "application/javascript": [
              "window[\"c0261a88-d003-11ec-9922-0242ac1c0002\"] = google.colab.output.setActiveOutputArea(window[\"c00ebeba-d003-11ec-9922-0242ac1c0002\"]);\n",
              "//# sourceURL=js_5f0f7ecba2"
            ]
          },
          "metadata": {}
        }
      ]
    },
    {
      "cell_type": "code",
      "source": [
        "#SARSA Algorithm\n",
        "from matplotlib import figure\n",
        "\n",
        "env = GridWorld_Env()\n",
        "\n",
        "q1_table = np.zeros([env.obs_space.n, env.act_space.n])\n",
        "output_grid = widgets.Grid(1, 1)\n",
        "alpha = 0.01\n",
        "gamma = 0.99\n",
        "epsilon = 0.9\n",
        "\n",
        "# For plotting metrics\n",
        "total_epochs=0\n",
        "episodes=500\n",
        "t_e= []\n",
        "t_r = []\n",
        "t_a=[]\n",
        "all_epochs = 0\n",
        "total_penalties = 0\n",
        "def choose_action(state):\n",
        "    action=0\n",
        "    if np.random.uniform(0, 1) < epsilon:\n",
        "        action = env.act_space.sample()\n",
        "    else:\n",
        "        action = np.argmax(q1_table[state, :])\n",
        "    return action\n",
        "\n",
        "for i in range(episodes):\n",
        "    state1 = env.reset()\n",
        "    action1 = choose_action(state1)\n",
        "    r=0\n",
        "    epochs, penalties, reward, = 0, 0, 0\n",
        "    done = False    \n",
        "    while not done:\n",
        "        state2, reward, done= env.step(action1)\n",
        "        action2 = choose_action(state2)          \n",
        "        #Learning the Q-value\n",
        "        q1_table[state1, action1] = q1_table[state1, action1] + alpha * (reward + gamma * q1_table[state2, action2] - q1_table[state1, action1])  \n",
        "        state1 = state2\n",
        "        action1 = action2\n",
        "        if reward == -1:\n",
        "            penalties += 1\n",
        "        epochs += 1\n",
        "        r+=reward\n",
        "        if(i>998):#Displays last iteration/Episode\n",
        "          with output_grid.output_to(0, 0):\n",
        "            output_grid.clear_cell()\n",
        "            # env.render()   \n",
        "    t_e.append(epochs) #Timesteps for each Episode\n",
        "    # if done:\n",
        "    #   print(f\"Reached at timestep: {env.tStep}\")\n",
        "    t_r.append(r)#Rewards for each Episode    \n",
        "    total_epochs += epochs\n",
        "    total_penalties += penalties\n",
        "    epsilon= np.exp(-6*i/episodes)\n",
        "    t_a.append(epsilon)  \n",
        "plt.plot(t_r)\n",
        "plt.title('Rewards vs Episodes')\n",
        "plt.xlabel('Episodes')\n",
        "plt.ylabel('Rewards') \n",
        "plt.figure()\n",
        "plt.plot(t_a)  \n",
        "plt.title('Epsilon Decay')\n",
        "plt.xlabel('Episodes')\n",
        "plt.ylabel('Episolon Value')        \n",
        "print(penalties)\n",
        "print(\"Model Ready! Training finished.\\n\")\n",
        "print(\"Total Episodes:\",episodes)\n",
        "print(\"Total Timesteps:\",total_epochs)\n",
        "print(\"Total Penalties:\", total_penalties)\n",
        "print(\"Average timesteps per episode:\" ,{total_epochs / episodes})\n",
        "print(\"Average penalties per episode:\" ,{total_penalties / episodes})\n",
        "print(\"SARSA Table:\\n\", q1_table)\n"
      ],
      "metadata": {
        "colab": {
          "base_uri": "https://localhost:8080/",
          "height": 1000
        },
        "id": "XxWJYG59Z1Af",
        "outputId": "e372c4c7-cbe9-4133-dfaf-250f9ae259ea"
      },
      "execution_count": 47,
      "outputs": [
        {
          "output_type": "display_data",
          "data": {
            "text/plain": [
              "<IPython.core.display.HTML object>"
            ],
            "text/html": [
              "<style>\n",
              "       table#id34, #id34 > tbody > tr > th, #id34 > tbody > tr > td {\n",
              "         border: 1px solid lightgray;\n",
              "         border-collapse:collapse;\n",
              "         \n",
              "        }</style>"
            ]
          },
          "metadata": {}
        },
        {
          "output_type": "display_data",
          "data": {
            "text/plain": [
              "<IPython.core.display.HTML object>"
            ],
            "text/html": [
              "<table id=id34><tr><td id=id34-0-0></td></tr></table>"
            ]
          },
          "metadata": {}
        },
        {
          "output_type": "stream",
          "name": "stdout",
          "text": [
            "0\n",
            "Model Ready! Training finished.\n",
            "\n",
            "Total Episodes: 500\n",
            "Total Timesteps: 9869\n",
            "Total Penalties: 0\n",
            "Average timesteps per episode: {19.738}\n",
            "Average penalties per episode: {0.0}\n",
            "SARSA Table:\n",
            " [[-1.59028411e+00  1.55412538e-01  2.95774996e+01  7.37251355e-02]\n",
            " [ 4.33121888e+01  4.20429607e-01  2.39917483e-02  1.97181950e-01]\n",
            " [ 2.99901974e-03  1.04193602e-03  2.22235347e-05  9.20765493e-01]\n",
            " [-1.92193670e-03  5.36224986e-06  0.00000000e+00  1.08711617e-03]\n",
            " [ 8.43438877e-02  1.44469235e-02  7.05011294e+00 -1.27475144e+00]\n",
            " [ 5.89975295e+01  2.93690389e+00  1.02208323e+00 -2.24073405e+00]\n",
            " [ 1.65089161e-01  8.69378601e-03 -7.34672325e-03  5.61686606e+00]\n",
            " [-3.29454081e-01  0.00000000e+00 -9.79169400e-04  1.36027148e-02]\n",
            " [ 5.89684144e-03 -8.93280966e-01  7.35682665e+00  1.08442103e-01]\n",
            " [ 1.60915642e+00  5.64952968e+01  1.46477492e+00  1.58714579e+00]\n",
            " [ 1.55883312e-01  4.53381448e-02 -5.00411219e-01  6.05345118e+00]\n",
            " [ 6.81690770e-01 -4.90050000e-04 -4.59646817e-02  2.93717195e-02]\n",
            " [ 1.07125674e-04  1.01753263e-02  2.25135341e-01  5.82339420e-05]\n",
            " [ 1.22851513e-01  6.95075963e+00  7.14512520e-01  6.85583511e-04]\n",
            " [ 6.86815346e-01  2.61794223e-07  2.36423940e-01  6.11022213e-02]\n",
            " [ 0.00000000e+00  0.00000000e+00  0.00000000e+00  0.00000000e+00]]\n"
          ]
        },
        {
          "output_type": "display_data",
          "data": {
            "text/plain": [
              "<Figure size 432x288 with 1 Axes>"
            ],
            "image/png": "[encoded data removed]"
          },
          "metadata": {
            "needs_background": "light"
          }
        },
        {
          "output_type": "display_data",
          "data": {
            "text/plain": [
              "<Figure size 432x288 with 1 Axes>"
            ],
            "image/png": "[encoded data removed]"
          },
          "metadata": {
            "needs_background": "light"
          }
        }
      ]
    },
    {
      "cell_type": "code",
      "source": [
        "#SARSA Algorithm evaluation\n",
        "from matplotlib import figure\n",
        "\n",
        "env = GridWorld_Env()\n",
        "output_grid = widgets.Grid(1, 1)\n",
        "alpha = 0.1\n",
        "gamma = 0.6\n",
        "epsilon = 0.9\n",
        "\n",
        "# For plotting metrics\n",
        "total_epochs=0\n",
        "episodes=10\n",
        "t_e= []\n",
        "t_r = []\n",
        "t_a=[]\n",
        "all_epochs = 0\n",
        "total_penalties = 0\n",
        "def choose_action(state):\n",
        "    action = np.argmax(q1_table[state, :])\n",
        "    return action\n",
        "\n",
        "for i in range(episodes):\n",
        "    state1 = env.reset()\n",
        "    action1 = choose_action(state1)\n",
        "    r=0\n",
        "    epochs, penalties, reward, = 0, 0, 0\n",
        "    done = False    \n",
        "    while not done:\n",
        "        state2, reward, done= env.step(action1)\n",
        "        action2 = choose_action(state2)          \n",
        "        state1 = state2\n",
        "        action1 = action2\n",
        "        if reward == -1:\n",
        "            penalties += 1\n",
        "        epochs += 1\n",
        "        r+=reward\n",
        "        if(i>998):#Displays last iteration/Episode\n",
        "          with output_grid.output_to(0, 0):\n",
        "            output_grid.clear_cell()\n",
        "            env.render()   \n",
        "    t_e.append(epochs) #Timesteps for each Episode\n",
        "    t_r.append(r)#Rewards for each Episode    \n",
        "    total_epochs += epochs\n",
        "    total_penalties += penalties\n",
        "    epsilon= np.exp(-6*i/episodes)\n",
        "    t_a.append(epsilon)  \n",
        "plt.plot(t_r)\n",
        "plt.title('Rewards vs Episodes')\n",
        "plt.xlabel('Episodes')\n",
        "plt.ylabel('Rewards') \n",
        "plt.figure()\n",
        "plt.plot(t_a)  \n",
        "plt.title('Epsilon Decay')\n",
        "plt.xlabel('Episodes')\n",
        "plt.ylabel('Episolon Value')        \n",
        "print(penalties)\n",
        "print(\"Model Ready! Training finished.\\n\")\n",
        "print(\"Total Episodes:\",episodes)\n",
        "print(\"Total Timesteps:\",total_epochs)\n",
        "print(\"Total Penalties:\", total_penalties)\n",
        "print(\"Average timesteps per episode: \",{total_epochs / episodes})\n",
        "print(\"Average penalties per episode: \",{total_penalties / episodes})\n",
        "print(\"SARSA Table:\\n\", q1_table)\n"
      ],
      "metadata": {
        "colab": {
          "base_uri": "https://localhost:8080/",
          "height": 1000
        },
        "id": "GI_w7jMyoxn0",
        "outputId": "55b7763c-4d2a-4574-bbf7-0a331d36a3a5"
      },
      "execution_count": 48,
      "outputs": [
        {
          "output_type": "display_data",
          "data": {
            "text/plain": [
              "<IPython.core.display.HTML object>"
            ],
            "text/html": [
              "<style>\n",
              "       table#id36, #id36 > tbody > tr > th, #id36 > tbody > tr > td {\n",
              "         border: 1px solid lightgray;\n",
              "         border-collapse:collapse;\n",
              "         \n",
              "        }</style>"
            ]
          },
          "metadata": {}
        },
        {
          "output_type": "display_data",
          "data": {
            "text/plain": [
              "<IPython.core.display.HTML object>"
            ],
            "text/html": [
              "<table id=id36><tr><td id=id36-0-0></td></tr></table>"
            ]
          },
          "metadata": {}
        },
        {
          "output_type": "stream",
          "name": "stdout",
          "text": [
            "0\n",
            "Model Ready! Training finished.\n",
            "\n",
            "Total Episodes: 10\n",
            "Total Timesteps: 200\n",
            "Total Penalties: 0\n",
            "Average timesteps per episode:  {20.0}\n",
            "Average penalties per episode:  {0.0}\n",
            "SARSA Table:\n",
            " [[-1.59028411e+00  1.55412538e-01  2.95774996e+01  7.37251355e-02]\n",
            " [ 4.33121888e+01  4.20429607e-01  2.39917483e-02  1.97181950e-01]\n",
            " [ 2.99901974e-03  1.04193602e-03  2.22235347e-05  9.20765493e-01]\n",
            " [-1.92193670e-03  5.36224986e-06  0.00000000e+00  1.08711617e-03]\n",
            " [ 8.43438877e-02  1.44469235e-02  7.05011294e+00 -1.27475144e+00]\n",
            " [ 5.89975295e+01  2.93690389e+00  1.02208323e+00 -2.24073405e+00]\n",
            " [ 1.65089161e-01  8.69378601e-03 -7.34672325e-03  5.61686606e+00]\n",
            " [-3.29454081e-01  0.00000000e+00 -9.79169400e-04  1.36027148e-02]\n",
            " [ 5.89684144e-03 -8.93280966e-01  7.35682665e+00  1.08442103e-01]\n",
            " [ 1.60915642e+00  5.64952968e+01  1.46477492e+00  1.58714579e+00]\n",
            " [ 1.55883312e-01  4.53381448e-02 -5.00411219e-01  6.05345118e+00]\n",
            " [ 6.81690770e-01 -4.90050000e-04 -4.59646817e-02  2.93717195e-02]\n",
            " [ 1.07125674e-04  1.01753263e-02  2.25135341e-01  5.82339420e-05]\n",
            " [ 1.22851513e-01  6.95075963e+00  7.14512520e-01  6.85583511e-04]\n",
            " [ 6.86815346e-01  2.61794223e-07  2.36423940e-01  6.11022213e-02]\n",
            " [ 0.00000000e+00  0.00000000e+00  0.00000000e+00  0.00000000e+00]]\n"
          ]
        },
        {
          "output_type": "display_data",
          "data": {
            "text/plain": [
              "<Figure size 432x288 with 1 Axes>"
            ],
            "image/png": "[encoded data removed]"
          },
          "metadata": {
            "needs_background": "light"
          }
        },
        {
          "output_type": "display_data",
          "data": {
            "text/plain": [
              "<Figure size 432x288 with 1 Axes>"
            ],
            "image/png": "[encoded data removed]"
          },
          "metadata": {
            "needs_background": "light"
          }
        }
      ]
    },
    {
      "cell_type": "markdown",
      "source": [
        "Hyper parameter 1 -\n",
        "\n",
        "gamma(discount factor)\n",
        "\n",
        "gamma = 0.89"
      ],
      "metadata": {
        "id": "xi2yzCQQeFHC"
      }
    },
    {
      "cell_type": "code",
      "source": [
        "#SARSA Algorithm\n",
        "from matplotlib import figure\n",
        "\n",
        "env = GridWorld_Env()\n",
        "\n",
        "q1_table = np.zeros([env.obs_space.n, env.act_space.n])\n",
        "output_grid = widgets.Grid(1, 1)\n",
        "alpha = 0.01\n",
        "gamma = 0.89\n",
        "epsilon = 0.9\n",
        "\n",
        "# For plotting metrics\n",
        "total_epochs=0\n",
        "episodes=500\n",
        "t_e= []\n",
        "t_r = []\n",
        "t_a=[]\n",
        "all_epochs = 0\n",
        "total_penalties = 0\n",
        "def choose_action(state):\n",
        "    action=0\n",
        "    if np.random.uniform(0, 1) < epsilon:\n",
        "        action = env.act_space.sample()\n",
        "    else:\n",
        "        action = np.argmax(q1_table[state, :])\n",
        "    return action\n",
        "\n",
        "for i in range(episodes):\n",
        "    state1 = env.reset()\n",
        "    action1 = choose_action(state1)\n",
        "    r=0\n",
        "    epochs, penalties, reward, = 0, 0, 0\n",
        "    done = False    \n",
        "    while not done:\n",
        "        state2, reward, done= env.step(action1)\n",
        "        action2 = choose_action(state2)          \n",
        "        #Learning the Q-value\n",
        "        q1_table[state1, action1] = q1_table[state1, action1] + alpha * (reward + gamma * q1_table[state2, action2] - q1_table[state1, action1])  \n",
        "        state1 = state2\n",
        "        action1 = action2\n",
        "        if reward == -1:\n",
        "            penalties += 1\n",
        "        epochs += 1\n",
        "        r+=reward\n",
        "        if(i>998):#Displays last iteration/Episode\n",
        "          with output_grid.output_to(0, 0):\n",
        "            output_grid.clear_cell()\n",
        "            # env.render()   \n",
        "    t_e.append(epochs) #Timesteps for each Episode\n",
        "    # if done:\n",
        "    #   print(f\"Reached at timestep: {env.tStep}\")\n",
        "    t_r.append(r)#Rewards for each Episode    \n",
        "    total_epochs += epochs\n",
        "    total_penalties += penalties\n",
        "    epsilon= np.exp(-6*i/episodes)\n",
        "    t_a.append(epsilon)  \n",
        "plt.plot(t_r)\n",
        "plt.title('Rewards vs Episodes')\n",
        "plt.xlabel('Episodes')\n",
        "plt.ylabel('Rewards') \n",
        "plt.figure()\n",
        "plt.plot(t_a)  \n",
        "plt.title('Epsilon Decay')\n",
        "plt.xlabel('Episodes')\n",
        "plt.ylabel('Episolon Value')        \n",
        "print(penalties)\n",
        "print(\"Model Ready! Training finished.\\n\")\n",
        "print(\"Total Episodes:\",episodes)\n",
        "print(\"Total Timesteps:\",total_epochs)\n",
        "print(\"Total Penalties:\", total_penalties)\n",
        "print(\"Average timesteps per episode:\",{total_epochs / episodes})\n",
        "print(\"Average penalties per episode:\", {total_penalties / episodes})\n",
        "print(\"SARSA Table:\\n\", q1_table)\n"
      ],
      "metadata": {
        "id": "5fLexo_8sTZC",
        "colab": {
          "base_uri": "https://localhost:8080/",
          "height": 1000
        },
        "outputId": "83f93d25-dbf7-47c8-f757-f61d35063d3b"
      },
      "execution_count": 50,
      "outputs": [
        {
          "output_type": "display_data",
          "data": {
            "text/plain": [
              "<IPython.core.display.HTML object>"
            ],
            "text/html": [
              "<style>\n",
              "       table#id40, #id40 > tbody > tr > th, #id40 > tbody > tr > td {\n",
              "         border: 1px solid lightgray;\n",
              "         border-collapse:collapse;\n",
              "         \n",
              "        }</style>"
            ]
          },
          "metadata": {}
        },
        {
          "output_type": "display_data",
          "data": {
            "text/plain": [
              "<IPython.core.display.HTML object>"
            ],
            "text/html": [
              "<table id=id40><tr><td id=id40-0-0></td></tr></table>"
            ]
          },
          "metadata": {}
        },
        {
          "output_type": "stream",
          "name": "stdout",
          "text": [
            "0\n",
            "Model Ready! Training finished.\n",
            "\n",
            "Total Episodes: 500\n",
            "Total Timesteps: 4020\n",
            "Total Penalties: 0\n",
            "Average timesteps per episode: {8.04}\n",
            "Average penalties per episode: {0.0}\n",
            "SARSA Table:\n",
            " [[-1.84262159e+00 -3.15286243e-02  5.77205037e+00  8.42142732e-02]\n",
            " [ 8.25209113e+00  1.65712304e-01  3.36113502e-03  6.43153614e-02]\n",
            " [-3.66569988e-07  1.86573082e-05 -1.12893593e-05  1.18070353e-01]\n",
            " [-1.24518550e-03 -1.12997787e-05 -2.27476203e-05  5.42290774e-04]\n",
            " [ 8.89779603e-03 -1.70675344e-02  6.52177915e-01 -9.00017228e-01]\n",
            " [ 1.09063437e+01  1.80290279e-01  2.41904275e-02 -1.34231214e+00]\n",
            " [ 7.39354937e-03  2.11501998e-04 -4.97328265e-03  4.90371756e-01]\n",
            " [-2.90497454e-01 -1.89570227e-05 -1.74875985e-03 -2.17487597e-05]\n",
            " [ 1.40032935e-07 -6.16957782e-01  1.75024002e+00  2.47661332e-02]\n",
            " [ 8.11327613e+00  4.94807133e-01  1.11626363e-01  1.36638975e-01]\n",
            " [ 4.73022966e-01  3.38375888e-03 -4.70388924e-01  1.62227089e+00]\n",
            " [ 4.07607913e-01 -1.05079899e-07 -4.89373400e-02  1.31708704e-03]\n",
            " [ 3.26001145e-04  1.79169015e-02  5.21670055e-01  4.11030379e-04]\n",
            " [ 4.11313040e-01  8.53165873e-01  9.99817913e+00  1.97760391e-02]\n",
            " [ 9.79931345e-01  6.15982386e-02  5.94281971e+00  5.13401010e-01]\n",
            " [ 0.00000000e+00  0.00000000e+00  0.00000000e+00  0.00000000e+00]]\n"
          ]
        },
        {
          "output_type": "display_data",
          "data": {
            "text/plain": [
              "<Figure size 432x288 with 1 Axes>"
            ],
            "image/png": "[encoded data removed]"
          },
          "metadata": {
            "needs_background": "light"
          }
        },
        {
          "output_type": "display_data",
          "data": {
            "text/plain": [
              "<Figure size 432x288 with 1 Axes>"
            ],
            "image/png": "[encoded data removed]"
          },
          "metadata": {
            "needs_background": "light"
          }
        }
      ]
    },
    {
      "cell_type": "markdown",
      "source": [
        "gamma = 0.79"
      ],
      "metadata": {
        "id": "dzdYyYKpeofi"
      }
    },
    {
      "cell_type": "code",
      "source": [
        "#SARSA Algorithm\n",
        "from matplotlib import figure\n",
        "\n",
        "env = GridWorld_Env()\n",
        "\n",
        "q1_table = np.zeros([env.obs_space.n, env.act_space.n])\n",
        "output_grid = widgets.Grid(1, 1)\n",
        "alpha = 0.01\n",
        "gamma = 0.79\n",
        "epsilon = 0.9\n",
        "\n",
        "# For plotting metrics\n",
        "total_epochs=0\n",
        "episodes=500\n",
        "t_e= []\n",
        "t_r = []\n",
        "t_a=[]\n",
        "all_epochs = 0\n",
        "total_penalties = 0\n",
        "def choose_action(state):\n",
        "    action=0\n",
        "    if np.random.uniform(0, 1) < epsilon:\n",
        "        action = env.act_space.sample()\n",
        "    else:\n",
        "        action = np.argmax(q1_table[state, :])\n",
        "    return action\n",
        "\n",
        "for i in range(episodes):\n",
        "    state1 = env.reset()\n",
        "    action1 = choose_action(state1)\n",
        "    r=0\n",
        "    epochs, penalties, reward, = 0, 0, 0\n",
        "    done = False    \n",
        "    while not done:\n",
        "        state2, reward, done= env.step(action1)\n",
        "        action2 = choose_action(state2)          \n",
        "        #Learning the Q-value\n",
        "        q1_table[state1, action1] = q1_table[state1, action1] + alpha * (reward + gamma * q1_table[state2, action2] - q1_table[state1, action1])  \n",
        "        state1 = state2\n",
        "        action1 = action2\n",
        "        if reward == -1:\n",
        "            penalties += 1\n",
        "        epochs += 1\n",
        "        r+=reward\n",
        "        if(i>998):#Displays last iteration/Episode\n",
        "          with output_grid.output_to(0, 0):\n",
        "            output_grid.clear_cell()\n",
        "            # env.render()   \n",
        "    t_e.append(epochs) #Timesteps for each Episode\n",
        "    # if done:\n",
        "    #   print(f\"Reached at timestep: {env.tStep}\")\n",
        "    t_r.append(r)#Rewards for each Episode    \n",
        "    total_epochs += epochs\n",
        "    total_penalties += penalties\n",
        "    epsilon= np.exp(-6*i/episodes)\n",
        "    t_a.append(epsilon)  \n",
        "plt.plot(t_r)\n",
        "plt.title('Rewards vs Episodes')\n",
        "plt.xlabel('Episodes')\n",
        "plt.ylabel('Rewards') \n",
        "plt.figure()\n",
        "plt.plot(t_a)  \n",
        "plt.title('Epsilon Decay')\n",
        "plt.xlabel('Episodes')\n",
        "plt.ylabel('Episolon Value')        \n",
        "print(penalties)\n",
        "print(\"Model Ready! Training finished.\\n\")\n",
        "print(\"Total Episodes:\",episodes)\n",
        "print(\"Total Timesteps:\",total_epochs)\n",
        "print(\"Total Penalties:\", total_penalties)\n",
        "print(\"Average timesteps per episode: {total_epochs / episodes}\")\n",
        "print(\"Average penalties per episode: {total_penalties / episodes}\")\n",
        "print(\"SARSA Table:\\n\", q1_table)\n"
      ],
      "metadata": {
        "colab": {
          "base_uri": "https://localhost:8080/",
          "height": 1000
        },
        "id": "aLwClYSteld6",
        "outputId": "3a08a341-3e87-428f-89cb-f1da92684e65"
      },
      "execution_count": 52,
      "outputs": [
        {
          "output_type": "display_data",
          "data": {
            "text/plain": [
              "<IPython.core.display.HTML object>"
            ],
            "text/html": [
              "<style>\n",
              "       table#id44, #id44 > tbody > tr > th, #id44 > tbody > tr > td {\n",
              "         border: 1px solid lightgray;\n",
              "         border-collapse:collapse;\n",
              "         \n",
              "        }</style>"
            ]
          },
          "metadata": {}
        },
        {
          "output_type": "display_data",
          "data": {
            "text/plain": [
              "<IPython.core.display.HTML object>"
            ],
            "text/html": [
              "<table id=id44><tr><td id=id44-0-0></td></tr></table>"
            ]
          },
          "metadata": {}
        },
        {
          "output_type": "stream",
          "name": "stdout",
          "text": [
            "0\n",
            "Model Ready! Training finished.\n",
            "\n",
            "Total Episodes: 500\n",
            "Total Timesteps: 9757\n",
            "Total Penalties: 0\n",
            "Average timesteps per episode: {total_epochs / episodes}\n",
            "Average penalties per episode: {total_penalties / episodes}\n",
            "SARSA Table:\n",
            " [[-1.97143385e+00 -2.86874379e-02  5.50192232e+00  3.40159320e-02]\n",
            " [ 8.64573442e+00  1.53998000e-01  1.52194692e-03 -4.52515646e-02]\n",
            " [ 4.65926887e-02  8.93268900e-05  1.77559826e-07  4.63144254e-03]\n",
            " [ 6.96800308e-06  4.62204966e-09  0.00000000e+00  9.87490192e-05]\n",
            " [ 4.33639216e-02 -5.18025119e-03  6.94745798e-01 -1.20911353e+00]\n",
            " [ 1.23884653e+01  5.76987411e-02  3.73693054e-02 -1.75192665e+00]\n",
            " [ 5.16814301e-02  8.37324625e-06 -3.60764462e-04  9.69156916e-01]\n",
            " [-9.95000000e-02  6.50961092e-08  1.89478839e-06  1.61439352e-03]\n",
            " [ 1.24593323e-02 -9.16974234e-01  4.21018007e+00  4.90320223e-02]\n",
            " [ 1.01922915e+01  1.58597950e+00  1.21591583e+00  9.07778106e-01]\n",
            " [ 5.79862008e+00  1.76785123e-02 -3.78530708e-01  5.24916905e-01]\n",
            " [ 4.07607913e-01  3.80188629e-07 -4.72261591e-02  0.00000000e+00]\n",
            " [ 1.28106979e-03  1.63772242e-02  2.85935256e+00  1.20169328e-02]\n",
            " [ 2.33914446e+00  1.30800614e+01  4.90494205e+00  4.53486719e-01]\n",
            " [ 1.38052479e+01  4.38654513e-01  1.51696743e+00  8.80743158e-01]\n",
            " [ 0.00000000e+00  0.00000000e+00  0.00000000e+00  0.00000000e+00]]\n"
          ]
        },
        {
          "output_type": "display_data",
          "data": {
            "text/plain": [
              "<Figure size 432x288 with 1 Axes>"
            ],
            "image/png": "[encoded data removed]"
          },
          "metadata": {
            "needs_background": "light"
          }
        },
        {
          "output_type": "display_data",
          "data": {
            "text/plain": [
              "<Figure size 432x288 with 1 Axes>"
            ],
            "image/png": "[encoded data removed]"
          },
          "metadata": {
            "needs_background": "light"
          }
        }
      ]
    },
    {
      "cell_type": "markdown",
      "source": [
        "Gamma = 0.69"
      ],
      "metadata": {
        "id": "GRJeU0k9e17d"
      }
    },
    {
      "cell_type": "code",
      "source": [
        "#SARSA Algorithm\n",
        "from matplotlib import figure\n",
        "\n",
        "env = GridWorld_Env()\n",
        "\n",
        "q1_table = np.zeros([env.obs_space.n, env.act_space.n])\n",
        "output_grid = widgets.Grid(1, 1)\n",
        "alpha = 0.01\n",
        "gamma = 0.69\n",
        "epsilon = 0.9\n",
        "\n",
        "# For plotting metrics\n",
        "total_epochs=0\n",
        "episodes=500\n",
        "t_e= []\n",
        "t_r = []\n",
        "t_a=[]\n",
        "all_epochs = 0\n",
        "total_penalties = 0\n",
        "def choose_action(state):\n",
        "    action=0\n",
        "    if np.random.uniform(0, 1) < epsilon:\n",
        "        action = env.act_space.sample()\n",
        "    else:\n",
        "        action = np.argmax(q1_table[state, :])\n",
        "    return action\n",
        "\n",
        "for i in range(episodes):\n",
        "    state1 = env.reset()\n",
        "    action1 = choose_action(state1)\n",
        "    r=0\n",
        "    epochs, penalties, reward, = 0, 0, 0\n",
        "    done = False    \n",
        "    while not done:\n",
        "        state2, reward, done= env.step(action1)\n",
        "        action2 = choose_action(state2)          \n",
        "        #Learning the Q-value\n",
        "        q1_table[state1, action1] = q1_table[state1, action1] + alpha * (reward + gamma * q1_table[state2, action2] - q1_table[state1, action1])  \n",
        "        state1 = state2\n",
        "        action1 = action2\n",
        "        if reward == -1:\n",
        "            penalties += 1\n",
        "        epochs += 1\n",
        "        r+=reward\n",
        "        if(i>998):#Displays last iteration/Episode\n",
        "          with output_grid.output_to(0, 0):\n",
        "            output_grid.clear_cell()\n",
        "            # env.render()   \n",
        "    t_e.append(epochs) #Timesteps for each Episode\n",
        "    # if done:\n",
        "    #   print(f\"Reached at timestep: {env.tStep}\")\n",
        "    t_r.append(r)#Rewards for each Episode    \n",
        "    total_epochs += epochs\n",
        "    total_penalties += penalties\n",
        "    epsilon= np.exp(-6*i/episodes)\n",
        "    t_a.append(epsilon)  \n",
        "plt.plot(t_r)\n",
        "plt.title('Rewards vs Episodes')\n",
        "plt.xlabel('Episodes')\n",
        "plt.ylabel('Rewards') \n",
        "plt.figure()\n",
        "plt.plot(t_a)  \n",
        "plt.title('Epsilon Decay')\n",
        "plt.xlabel('Episodes')\n",
        "plt.ylabel('Episolon Value')        \n",
        "print(penalties)\n",
        "print(\"Model Ready! Training finished.\\n\")\n",
        "print(\"Total Episodes:\",episodes)\n",
        "print(\"Total Timesteps:\",total_epochs)\n",
        "print(\"Total Penalties:\", total_penalties)\n",
        "print(\"Average timesteps per episode: {total_epochs / episodes}\")\n",
        "print(\"Average penalties per episode: {total_penalties / episodes}\")\n",
        "print(\"SARSA Table:\\n\", q1_table)\n"
      ],
      "metadata": {
        "colab": {
          "base_uri": "https://localhost:8080/",
          "height": 1000
        },
        "id": "fGHVsKwve4Ea",
        "outputId": "31613dd2-772c-48cc-c0c1-1b28d669d0a0"
      },
      "execution_count": 53,
      "outputs": [
        {
          "output_type": "display_data",
          "data": {
            "text/plain": [
              "<IPython.core.display.HTML object>"
            ],
            "text/html": [
              "<style>\n",
              "       table#id46, #id46 > tbody > tr > th, #id46 > tbody > tr > td {\n",
              "         border: 1px solid lightgray;\n",
              "         border-collapse:collapse;\n",
              "         \n",
              "        }</style>"
            ]
          },
          "metadata": {}
        },
        {
          "output_type": "display_data",
          "data": {
            "text/plain": [
              "<IPython.core.display.HTML object>"
            ],
            "text/html": [
              "<table id=id46><tr><td id=id46-0-0></td></tr></table>"
            ]
          },
          "metadata": {}
        },
        {
          "output_type": "stream",
          "name": "stdout",
          "text": [
            "0\n",
            "Model Ready! Training finished.\n",
            "\n",
            "Total Episodes: 500\n",
            "Total Timesteps: 3965\n",
            "Total Penalties: 0\n",
            "Average timesteps per episode: {total_epochs / episodes}\n",
            "Average penalties per episode: {total_penalties / episodes}\n",
            "SARSA Table:\n",
            " [[-1.53989326e+00 -2.03109071e-03  2.65393475e+00 -2.68461092e-02]\n",
            " [ 4.87947258e+00  7.23354087e-02  6.67363129e-04  2.15262941e-02]\n",
            " [ 7.37867987e-04  2.78228499e-05 -2.07147156e-05  5.93153199e-02]\n",
            " [-2.97312012e-03 -6.99267888e-06  6.94093939e-09  3.65999422e-05]\n",
            " [ 4.10028324e-01  6.10495042e-05  3.32397108e-02 -7.10152911e-01]\n",
            " [ 8.19065576e+00  5.19699625e-02  5.37999898e-03 -1.25240684e+00]\n",
            " [ 1.61340752e-01  8.45626696e-06 -4.42289812e-03  5.13207053e-03]\n",
            " [-3.87711772e-01 -4.05659185e-05 -1.65209753e-03  5.43238591e-04]\n",
            " [ 3.93683359e-04 -6.59064706e-01  3.07175529e+00  4.83410890e-02]\n",
            " [ 5.60390736e+00  2.20625867e-01  1.81667441e-01  1.52066534e-01]\n",
            " [ 6.79117967e-01  2.38630120e-03 -6.71912424e-01  2.52594959e+00]\n",
            " [ 7.87525123e-01 -1.40630370e-05 -3.37630050e-01  7.83373806e-03]\n",
            " [ 1.03881736e-04  1.21652296e-01  2.87213441e-02  3.94241635e-04]\n",
            " [ 4.50906660e-01  8.91584266e-01  8.80777077e+00  2.75380508e-03]\n",
            " [ 8.80449211e-01  1.22755735e-01  5.94047415e+00  2.92800179e-01]\n",
            " [ 0.00000000e+00  0.00000000e+00  0.00000000e+00  0.00000000e+00]]\n"
          ]
        },
        {
          "output_type": "display_data",
          "data": {
            "text/plain": [
              "<Figure size 432x288 with 1 Axes>"
            ],
            "image/png": "[encoded data removed]"
          },
          "metadata": {
            "needs_background": "light"
          }
        },
        {
          "output_type": "display_data",
          "data": {
            "text/plain": [
              "<Figure size 432x288 with 1 Axes>"
            ],
            "image/png": "[encoded data removed]"
          },
          "metadata": {
            "needs_background": "light"
          }
        }
      ]
    },
    {
      "cell_type": "markdown",
      "source": [
        "Hyper parameter 2 - Episodes\n",
        "\n",
        "Episodes = 400"
      ],
      "metadata": {
        "id": "LNebHrYDe_pY"
      }
    },
    {
      "cell_type": "code",
      "source": [
        "#SARSA Algorithm\n",
        "from matplotlib import figure\n",
        "\n",
        "env = GridWorld_Env()\n",
        "\n",
        "q1_table = np.zeros([env.obs_space.n, env.act_space.n])\n",
        "output_grid = widgets.Grid(1, 1)\n",
        "alpha = 0.01\n",
        "gamma = 0.99\n",
        "epsilon = 0.9\n",
        "\n",
        "# For plotting metrics\n",
        "total_epochs=0\n",
        "episodes=400\n",
        "t_e= []\n",
        "t_r = []\n",
        "t_a=[]\n",
        "all_epochs = 0\n",
        "total_penalties = 0\n",
        "def choose_action(state):\n",
        "    action=0\n",
        "    if np.random.uniform(0, 1) < epsilon:\n",
        "        action = env.act_space.sample()\n",
        "    else:\n",
        "        action = np.argmax(q1_table[state, :])\n",
        "    return action\n",
        "\n",
        "for i in range(episodes):\n",
        "    state1 = env.reset()\n",
        "    action1 = choose_action(state1)\n",
        "    r=0\n",
        "    epochs, penalties, reward, = 0, 0, 0\n",
        "    done = False    \n",
        "    while not done:\n",
        "        state2, reward, done= env.step(action1)\n",
        "        action2 = choose_action(state2)          \n",
        "        #Learning the Q-value\n",
        "        q1_table[state1, action1] = q1_table[state1, action1] + alpha * (reward + gamma * q1_table[state2, action2] - q1_table[state1, action1])  \n",
        "        state1 = state2\n",
        "        action1 = action2\n",
        "        if reward == -1:\n",
        "            penalties += 1\n",
        "        epochs += 1\n",
        "        r+=reward\n",
        "        if(i>998):#Displays last iteration/Episode\n",
        "          with output_grid.output_to(0, 0):\n",
        "            output_grid.clear_cell()\n",
        "            # env.render()   \n",
        "    t_e.append(epochs) #Timesteps for each Episode\n",
        "    # if done:\n",
        "    #   print(f\"Reached at timestep: {env.tStep}\")\n",
        "    t_r.append(r)#Rewards for each Episode    \n",
        "    total_epochs += epochs\n",
        "    total_penalties += penalties\n",
        "    epsilon= np.exp(-6*i/episodes)\n",
        "    t_a.append(epsilon)  \n",
        "plt.plot(t_r)\n",
        "plt.title('Rewards vs Episodes')\n",
        "plt.xlabel('Episodes')\n",
        "plt.ylabel('Rewards') \n",
        "plt.figure()\n",
        "plt.plot(t_a)  \n",
        "plt.title('Epsilon Decay')\n",
        "plt.xlabel('Episodes')\n",
        "plt.ylabel('Episolon Value')        \n",
        "print(penalties)\n",
        "print(\"Model Ready! Training finished.\\n\")\n",
        "print(\"Total Episodes:\",episodes)\n",
        "print(\"Total Timesteps:\",total_epochs)\n",
        "print(\"Total Penalties:\", total_penalties)\n",
        "print(\"Average timesteps per episode: {total_epochs / episodes}\")\n",
        "print(\"Average penalties per episode: {total_penalties / episodes}\")\n",
        "print(\"SARSA Table:\\n\", q1_table)\n"
      ],
      "metadata": {
        "colab": {
          "base_uri": "https://localhost:8080/",
          "height": 1000
        },
        "id": "tLPLh2gbfEyc",
        "outputId": "4ed020d2-a954-4a03-d586-bc55247e8309"
      },
      "execution_count": 54,
      "outputs": [
        {
          "output_type": "display_data",
          "data": {
            "text/plain": [
              "<IPython.core.display.HTML object>"
            ],
            "text/html": [
              "<style>\n",
              "       table#id48, #id48 > tbody > tr > th, #id48 > tbody > tr > td {\n",
              "         border: 1px solid lightgray;\n",
              "         border-collapse:collapse;\n",
              "         \n",
              "        }</style>"
            ]
          },
          "metadata": {}
        },
        {
          "output_type": "display_data",
          "data": {
            "text/plain": [
              "<IPython.core.display.HTML object>"
            ],
            "text/html": [
              "<table id=id48><tr><td id=id48-0-0></td></tr></table>"
            ]
          },
          "metadata": {}
        },
        {
          "output_type": "stream",
          "name": "stdout",
          "text": [
            "0\n",
            "Model Ready! Training finished.\n",
            "\n",
            "Total Episodes: 400\n",
            "Total Timesteps: 7373\n",
            "Total Penalties: 0\n",
            "Average timesteps per episode: {total_epochs / episodes}\n",
            "Average penalties per episode: {total_penalties / episodes}\n",
            "SARSA Table:\n",
            " [[-1.68335399e+00 -2.11153522e-02  1.99415155e+01  9.13771665e-02]\n",
            " [ 3.29152093e+01  5.06939501e-01  1.53264007e-02  9.66706922e-02]\n",
            " [ 1.05857681e-02  9.07266389e-04 -2.39910760e-05  5.89042861e-01]\n",
            " [-2.39399971e-03 -4.43704853e-06 -7.07422715e-06  1.78600844e-03]\n",
            " [ 5.07022805e-02  9.26840519e-03  5.00882625e+00 -6.81996286e-01]\n",
            " [ 4.94659403e+01  1.62199766e+00  3.10976917e-01 -1.92385886e+00]\n",
            " [ 4.29517117e-02  3.57686552e-03 -5.09195092e-03  3.13275828e+00]\n",
            " [-3.79273686e-01  6.89808282e-07 -3.32773208e-03 -2.36330586e-05]\n",
            " [ 3.43713928e-04 -4.71119717e-01  3.45530182e+00  2.55063107e-02]\n",
            " [ 5.86325199e-01  4.69535276e+01  4.27645492e-01  5.40337262e-01]\n",
            " [ 2.39810735e+00  3.52848813e-03 -3.36865049e-01  2.30279051e-01]\n",
            " [ 5.18896515e-01 -2.40870122e-03 -1.89548906e-01 -4.89136537e-10]\n",
            " [ 3.15031322e-04  0.00000000e+00  4.15245618e-02  0.00000000e+00]\n",
            " [ 9.11946865e-03  7.06124793e-01  2.75254088e+00  1.11078771e-05]\n",
            " [ 3.50443203e-01  1.56687574e-02  3.28773810e+00  6.82330561e-02]\n",
            " [ 0.00000000e+00  0.00000000e+00  0.00000000e+00  0.00000000e+00]]\n"
          ]
        },
        {
          "output_type": "display_data",
          "data": {
            "text/plain": [
              "<Figure size 432x288 with 1 Axes>"
            ],
            "image/png": "[encoded data removed]"
          },
          "metadata": {
            "needs_background": "light"
          }
        },
        {
          "output_type": "display_data",
          "data": {
            "text/plain": [
              "<Figure size 432x288 with 1 Axes>"
            ],
            "image/png": "[encoded data removed]"
          },
          "metadata": {
            "needs_background": "light"
          }
        }
      ]
    },
    {
      "cell_type": "markdown",
      "source": [
        "Hyper parameter - 2\n",
        "\n",
        "Episodes = 450"
      ],
      "metadata": {
        "id": "tHDbDHbkfeRW"
      }
    },
    {
      "cell_type": "code",
      "source": [
        "#SARSA Algorithm\n",
        "from matplotlib import figure\n",
        "\n",
        "env = GridWorld_Env()\n",
        "\n",
        "q1_table = np.zeros([env.obs_space.n, env.act_space.n])\n",
        "output_grid = widgets.Grid(1, 1)\n",
        "alpha = 0.01\n",
        "gamma = 0.99\n",
        "epsilon = 0.9\n",
        "\n",
        "# For plotting metrics\n",
        "total_epochs=0\n",
        "episodes=450\n",
        "t_e= []\n",
        "t_r = []\n",
        "t_a=[]\n",
        "all_epochs = 0\n",
        "total_penalties = 0\n",
        "def choose_action(state):\n",
        "    action=0\n",
        "    if np.random.uniform(0, 1) < epsilon:\n",
        "        action = env.act_space.sample()\n",
        "    else:\n",
        "        action = np.argmax(q1_table[state, :])\n",
        "    return action\n",
        "\n",
        "for i in range(episodes):\n",
        "    state1 = env.reset()\n",
        "    action1 = choose_action(state1)\n",
        "    r=0\n",
        "    epochs, penalties, reward, = 0, 0, 0\n",
        "    done = False    \n",
        "    while not done:\n",
        "        state2, reward, done= env.step(action1)\n",
        "        action2 = choose_action(state2)          \n",
        "        #Learning the Q-value\n",
        "        q1_table[state1, action1] = q1_table[state1, action1] + alpha * (reward + gamma * q1_table[state2, action2] - q1_table[state1, action1])  \n",
        "        state1 = state2\n",
        "        action1 = action2\n",
        "        if reward == -1:\n",
        "            penalties += 1\n",
        "        epochs += 1\n",
        "        r+=reward\n",
        "        if(i>998):#Displays last iteration/Episode\n",
        "          with output_grid.output_to(0, 0):\n",
        "            output_grid.clear_cell()\n",
        "            # env.render()   \n",
        "    t_e.append(epochs) #Timesteps for each Episode\n",
        "    # if done:\n",
        "    #   print(f\"Reached at timestep: {env.tStep}\")\n",
        "    t_r.append(r)#Rewards for each Episode    \n",
        "    total_epochs += epochs\n",
        "    total_penalties += penalties\n",
        "    epsilon= np.exp(-6*i/episodes)\n",
        "    t_a.append(epsilon)  \n",
        "plt.plot(t_r)\n",
        "plt.title('Rewards vs Episodes')\n",
        "plt.xlabel('Episodes')\n",
        "plt.ylabel('Rewards') \n",
        "plt.figure()\n",
        "plt.plot(t_a)  \n",
        "plt.title('Epsilon Decay')\n",
        "plt.xlabel('Episodes')\n",
        "plt.ylabel('Episolon Value')        \n",
        "print(penalties)\n",
        "print(\"Model Ready! Training finished.\\n\")\n",
        "print(\"Total Episodes:\",episodes)\n",
        "print(\"Total Timesteps:\",total_epochs)\n",
        "print(\"Total Penalties:\", total_penalties)\n",
        "print(\"Average timesteps per episode: {total_epochs / episodes}\")\n",
        "print(\"Average penalties per episode: {total_penalties / episodes}\")\n",
        "print(\"SARSA Table:\\n\", q1_table)\n"
      ],
      "metadata": {
        "colab": {
          "base_uri": "https://localhost:8080/",
          "height": 1000
        },
        "id": "k9LNH1f5fiOL",
        "outputId": "e1b8316f-fa03-4b7e-c5af-3c03b862f2c8"
      },
      "execution_count": 55,
      "outputs": [
        {
          "output_type": "display_data",
          "data": {
            "text/plain": [
              "<IPython.core.display.HTML object>"
            ],
            "text/html": [
              "<style>\n",
              "       table#id50, #id50 > tbody > tr > th, #id50 > tbody > tr > td {\n",
              "         border: 1px solid lightgray;\n",
              "         border-collapse:collapse;\n",
              "         \n",
              "        }</style>"
            ]
          },
          "metadata": {}
        },
        {
          "output_type": "display_data",
          "data": {
            "text/plain": [
              "<IPython.core.display.HTML object>"
            ],
            "text/html": [
              "<table id=id50><tr><td id=id50-0-0></td></tr></table>"
            ]
          },
          "metadata": {}
        },
        {
          "output_type": "stream",
          "name": "stdout",
          "text": [
            "0\n",
            "Model Ready! Training finished.\n",
            "\n",
            "Total Episodes: 450\n",
            "Total Timesteps: 8819\n",
            "Total Penalties: 0\n",
            "Average timesteps per episode: {total_epochs / episodes}\n",
            "Average penalties per episode: {total_penalties / episodes}\n",
            "SARSA Table:\n",
            " [[-1.59673534e+00  2.69048890e-01  2.63501907e+01  1.06510936e-01]\n",
            " [ 3.99100603e+01  4.85689155e-01  1.06844694e-02  7.57536330e-02]\n",
            " [ 3.70134235e-03  1.45697907e-06 -8.86027347e-06  5.32801228e-01]\n",
            " [-4.71796290e-03 -4.77968471e-05 -8.24632356e-05  3.78610954e-04]\n",
            " [ 3.47178436e-02  1.59423525e-02  3.58838861e+00 -1.02583832e+00]\n",
            " [ 5.59526714e+01  3.57097382e+00  3.73467002e-01 -2.14676766e+00]\n",
            " [ 3.71773358e-02  2.00801054e-04 -2.32809356e-03  4.00962619e+00]\n",
            " [-2.90866921e-01 -1.95740524e-05 -1.47024753e-03  1.57416558e-02]\n",
            " [ 8.45841689e-04 -8.34631635e-01  5.96317647e+00  5.63233885e-02]\n",
            " [ 1.00154603e+00  5.34480188e+01  1.10352923e+00  1.23252977e+00]\n",
            " [ 4.84359687e-01  7.93452350e-03 -4.52223072e-01  5.95802476e+00]\n",
            " [ 6.27970474e-01 -4.80099756e-04 -9.65888090e-02  5.64604197e-03]\n",
            " [ 4.75447475e-06  9.75363771e-02  4.00540420e-02  4.80298005e-08]\n",
            " [ 1.29933881e-01  6.16635080e-01  4.94352101e+00  1.11045705e-03]\n",
            " [ 1.21884793e+01  1.57094950e-02  1.09255837e+00  2.33769331e-01]\n",
            " [ 0.00000000e+00  0.00000000e+00  0.00000000e+00  0.00000000e+00]]\n"
          ]
        },
        {
          "output_type": "display_data",
          "data": {
            "text/plain": [
              "<Figure size 432x288 with 1 Axes>"
            ],
            "image/png": "[encoded data removed]"
          },
          "metadata": {
            "needs_background": "light"
          }
        },
        {
          "output_type": "display_data",
          "data": {
            "text/plain": [
              "<Figure size 432x288 with 1 Axes>"
            ],
            "image/png": "[encoded data removed]"
          },
          "metadata": {
            "needs_background": "light"
          }
        }
      ]
    },
    {
      "cell_type": "markdown",
      "source": [
        "Episodes = 300"
      ],
      "metadata": {
        "id": "aT3vqusyiziq"
      }
    },
    {
      "cell_type": "code",
      "source": [
        "#SARSA Algorithm\n",
        "from matplotlib import figure\n",
        "\n",
        "env = GridWorld_Env()\n",
        "\n",
        "q1_table = np.zeros([env.obs_space.n, env.act_space.n])\n",
        "output_grid = widgets.Grid(1, 1)\n",
        "alpha = 0.01\n",
        "gamma = 0.99\n",
        "epsilon = 0.9\n",
        "\n",
        "# For plotting metrics\n",
        "total_epochs=0\n",
        "episodes=300\n",
        "t_e= []\n",
        "t_r = []\n",
        "t_a=[]\n",
        "all_epochs = 0\n",
        "total_penalties = 0\n",
        "def choose_action(state):\n",
        "    action=0\n",
        "    if np.random.uniform(0, 1) < epsilon:\n",
        "        action = env.act_space.sample()\n",
        "    else:\n",
        "        action = np.argmax(q1_table[state, :])\n",
        "    return action\n",
        "\n",
        "for i in range(episodes):\n",
        "    state1 = env.reset()\n",
        "    action1 = choose_action(state1)\n",
        "    r=0\n",
        "    epochs, penalties, reward, = 0, 0, 0\n",
        "    done = False    \n",
        "    while not done:\n",
        "        state2, reward, done= env.step(action1)\n",
        "        action2 = choose_action(state2)          \n",
        "        #Learning the Q-value\n",
        "        q1_table[state1, action1] = q1_table[state1, action1] + alpha * (reward + gamma * q1_table[state2, action2] - q1_table[state1, action1])  \n",
        "        state1 = state2\n",
        "        action1 = action2\n",
        "        if reward == -1:\n",
        "            penalties += 1\n",
        "        epochs += 1\n",
        "        r+=reward\n",
        "        if(i>998):#Displays last iteration/Episode\n",
        "          with output_grid.output_to(0, 0):\n",
        "            output_grid.clear_cell()\n",
        "            # env.render()   \n",
        "    t_e.append(epochs) #Timesteps for each Episode\n",
        "    # if done:\n",
        "    #   print(f\"Reached at timestep: {env.tStep}\")\n",
        "    t_r.append(r)#Rewards for each Episode    \n",
        "    total_epochs += epochs\n",
        "    total_penalties += penalties\n",
        "    epsilon= np.exp(-6*i/episodes)\n",
        "    t_a.append(epsilon)  \n",
        "plt.plot(t_r)\n",
        "plt.title('Rewards vs Episodes')\n",
        "plt.xlabel('Episodes')\n",
        "plt.ylabel('Rewards') \n",
        "plt.figure()\n",
        "plt.plot(t_a)  \n",
        "plt.title('Epsilon Decay')\n",
        "plt.xlabel('Episodes')\n",
        "plt.ylabel('Episolon Value')        \n",
        "print(penalties)\n",
        "print(\"Model Ready! Training finished.\\n\")\n",
        "print(\"Total Episodes:\",episodes)\n",
        "print(\"Total Timesteps:\",total_epochs)\n",
        "print(\"Total Penalties:\", total_penalties)\n",
        "print(\"Average timesteps per episode: {total_epochs / episodes}\")\n",
        "print(\"Average penalties per episode: {total_penalties / episodes}\")\n",
        "print(\"SARSA Table:\\n\", q1_table)\n"
      ],
      "metadata": {
        "colab": {
          "base_uri": "https://localhost:8080/",
          "height": 1000
        },
        "id": "KTgjR7H1im1u",
        "outputId": "7fcf3766-7062-4ceb-e516-9899194461f8"
      },
      "execution_count": 56,
      "outputs": [
        {
          "output_type": "display_data",
          "data": {
            "text/plain": [
              "<IPython.core.display.HTML object>"
            ],
            "text/html": [
              "<style>\n",
              "       table#id52, #id52 > tbody > tr > th, #id52 > tbody > tr > td {\n",
              "         border: 1px solid lightgray;\n",
              "         border-collapse:collapse;\n",
              "         \n",
              "        }</style>"
            ]
          },
          "metadata": {}
        },
        {
          "output_type": "display_data",
          "data": {
            "text/plain": [
              "<IPython.core.display.HTML object>"
            ],
            "text/html": [
              "<table id=id52><tr><td id=id52-0-0></td></tr></table>"
            ]
          },
          "metadata": {}
        },
        {
          "output_type": "stream",
          "name": "stdout",
          "text": [
            "0\n",
            "Model Ready! Training finished.\n",
            "\n",
            "Total Episodes: 300\n",
            "Total Timesteps: 5321\n",
            "Total Penalties: 0\n",
            "Average timesteps per episode: {total_epochs / episodes}\n",
            "Average penalties per episode: {total_penalties / episodes}\n",
            "SARSA Table:\n",
            " [[-1.20445872e+00  3.50520748e-02  1.22469584e+01 -1.86278992e-02]\n",
            " [ 2.35102750e+01  1.81403145e-01  4.10314672e-04 -2.47966069e-03]\n",
            " [ 1.68094644e-03  1.70751889e-05  1.85490372e-09  4.27921541e-02]\n",
            " [-9.84447224e-04  6.02715350e-09  0.00000000e+00 -4.80469130e-08]\n",
            " [ 6.20782246e-03 -1.87481371e-02  1.64341092e+00 -2.89779908e-01]\n",
            " [ 3.92407373e+01  1.13636508e+00  5.20737932e-02 -1.66453640e+00]\n",
            " [ 4.33522329e-01  7.89716536e-05 -2.40041958e-03  7.05958669e-02]\n",
            " [-2.91938375e-01  1.89602947e-09  6.02775627e-07  8.94596352e-04]\n",
            " [ 3.75369493e-04 -5.19404431e-02  2.76080007e+00  5.23997810e-03]\n",
            " [ 2.57741707e-01  3.67352552e+01  4.19625750e-01  3.19825635e-01]\n",
            " [ 3.08854616e+00  4.70856371e-03 -5.99045069e-01  2.93888540e-01]\n",
            " [ 4.63531833e-01 -3.85537532e-03 -9.77454151e-02  2.92304402e-02]\n",
            " [ 4.85149500e-08  0.00000000e+00  3.93744611e-02  2.35221688e-04]\n",
            " [ 2.41099872e-02  1.99310149e-01  2.02387720e+00  0.00000000e+00]\n",
            " [ 6.47912394e-01  1.78901790e-02  3.28773810e+00  1.00563125e-02]\n",
            " [ 0.00000000e+00  0.00000000e+00  0.00000000e+00  0.00000000e+00]]\n"
          ]
        },
        {
          "output_type": "display_data",
          "data": {
            "text/plain": [
              "<Figure size 432x288 with 1 Axes>"
            ],
            "image/png": "[encoded data removed]"
          },
          "metadata": {
            "needs_background": "light"
          }
        },
        {
          "output_type": "display_data",
          "data": {
            "text/plain": [
              "<Figure size 432x288 with 1 Axes>"
            ],
            "image/png": "[encoded data removed]"
          },
          "metadata": {
            "needs_background": "light"
          }
        }
      ]
    }
  ]
}