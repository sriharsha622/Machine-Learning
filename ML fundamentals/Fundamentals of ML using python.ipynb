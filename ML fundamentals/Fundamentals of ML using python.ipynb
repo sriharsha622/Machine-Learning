{
  "cells": [
    {
      "cell_type": "markdown",
      "metadata": {
        "id": "KH1K6cXFvnmj"
      },
      "source": [
        "<div align=\"center\"> <h3><font color='cyan'>CSE 574 Sections C&D: Introduction to Machine Learning, Spring 2022 </font> \n",
        "<h1> Assignment 1 - Python Intro\n",
        "\n",
        "<h3>Checkpoint: February 13, Sun, 11:59pm\n",
        "<h2><font color='red'>Final Due Date: </font> February 20, Sun, 11:59pm</div>\n",
        "\n",
        "Welcome to your first CSE 574 assignment! The goal of this assignment is to sharpen your programming skills needed for this class. It is focused on familiarizing yourself with Python and main data science libraries that will be used for other assignments as well.\n",
        "\n",
        "There are a total of five parts. We will focus on basic Python functions, explore numpy, pandas and matplotlib libraries and analyze the real-world dataset.\n",
        "\n",
        "If you are new to Python, check our [Python resources page](https://ubuffalo-my.sharepoint.com/:w:/g/personal/avereshc_buffalo_edu/ESoUg6v6aoJImaeWXy90SqMBiubxGGAkG7dhaNyhuBum_w?e=3Tlwbz) and our class demos.\n",
        "\n",
        "\n",
        "### Submission\n",
        "\n",
        "All the details you need for this assignment are located within this notebook. You are expected to follow every block and complete the task within the marks ``` # BEGIN_YOUR_CODE ``` and ```# END_YOUR_CODE```, as well as adding an Academic Integrity statement at the beginning within the marks ```# ADD YOUR ACADEMIC INTERGITY STATEMENT``` and ```# END OF YOUR ACADEMIC INTERGITY STATEMENT```. Do not modify or edit code beyond these lines. You can add helper functions in the new cells, if needed. We recommend completing the task within this .ipynb notebook, if needed you can convert it and submit as .py script. Try to make your code as clean and simple as possible and be sure to write your answers between the begin answer and end answer comments.\n",
        "\n",
        "1. Submit at **UBLearns > Assignments**\n",
        "2. The code of your implementations should be written in Python\n",
        "3. All project files should be packed in a ZIP file named YOUR_FIRST_NAME_YOUR_LAST_NAME_assignment1.zip (e.g. alina_vereshchaka_assignment1.zip).\n",
        "4. Your Jupyter notebook should be saved with the results. If you are submitting python scripts, after extracting the ZIP file and executing command python main.py in the first level directory, all the generated results and plots you used in your report should appear printed out in a clear manner.  \n",
        "6. Include all the references that have been used to complete the assignment.\n",
        "\n",
        "### Checkpoint Submission <font color='red'>[Due Date: Feb 13]</font>\n",
        "Complete Part 1, Part 2 and Part 3 and submit the code in the ZIP file named YOUR_FIRST_NAME_YOUR_LAST_NAME_assignment1_checkpoint.zip. Checkpoint will be evaluated after the final submission.\n",
        "\n",
        "### Final Submission <font color='red'>[Due Date: Feb 20]</font>\n",
        "Complete all parts of the assignment and submit the code in the ZIP file named YOUR_FIRST_NAME_YOUR_LAST_NAME_assignment1_final.zip. You may add slight modification to your Checkpoint submission if needed.\n",
        "\n",
        "**Assignment Outline**\n",
        "\n",
        "| Part | Description | # of tasks | Points |\n",
        "| --- | --- | --- | --- |\n",
        "| [Part 1](#part1) | Basics | 10 | 20 |\n",
        "| [Part 2](#part2) | Numpy Basics | 11 | 20 |\n",
        "| [Part 3](#part3) | Algorithms | 2 | 20 |\n",
        "| [Part 4](#part4) | Pandas Basics | 8 | 20 |\n",
        "| [Part 5](#part5) | Matplotlib Basics | 9 | 20 |\n",
        "\n",
        "    \n",
        "### Academic Integrity\n",
        "\n",
        "This assignment must be completed individually.\n",
        "The standing policy of the Department is that all students involved in any academic integrity violation (e.g. plagiarism in any way, shape, or form) will receive an F grade for the course. The catalog describes plagiarism as “Copying or receiving material from any source and submitting that material as one’s own, without acknowledging and citing the particular debts to the source, or in any other manner representing the work of another as one’s own.”. Refer to the [Office of Academic Integrity](https://www.buffalo.edu/academic-integrity.html) for more details.\n",
        "\n",
        "### <font color='red'>IMPORTANT NOTE</font>\n",
        "In order to certify that you followed Academic Integrity policy while completing the assignment, please include the following statement as a comment block. In case you submit multiple files, add this statement at the beginning of each code file submitted: \n",
        "\n",
        "\"I certify that the code and data in this assignment were generated independently, using only the tools and resources defined in the course and that I did not receive any external help, coaching or contributions during the production of this work.\"\n",
        "\n",
        "Submissions without the academic integrity statement will not be evaluated and will receive a 0.\n",
        "\n",
        "### Late Days Policy\n",
        "You can use up to 7 late days throughout the course toward any assignments' checkpoint or final submission. You do not have to inform the instructor, as the late submission will be tracked in UBlearns.\n",
        "\n",
        "### FAQ\n",
        ">What does 'raise Exception(\"Not implemented yet\")' mean?\n",
        "\n",
        "Here we define a custom exception to highlight that the task is not implemented yet. Once you implement your code, ensure to remove this part.\n",
        "\n",
        ">Can I add code beyond # BEGIN_YOUR_CODE parts.\n",
        "\n",
        "Yes, you can add helper functions. Add them in the separate cell with the comments, why you need it\n"
      ]
    },
    {
      "cell_type": "markdown",
      "metadata": {
        "id": "G4w3hht2NVA2"
      },
      "source": [
        "## START COMPLETING YOUR ASSIGNMENT HERE"
      ]
    },
    {
      "cell_type": "code",
      "execution_count": 50,
      "metadata": {
        "colab": {
          "base_uri": "https://localhost:8080/",
          "height": 54
        },
        "id": "Ej62vnzINVA3",
        "outputId": "e4560434-e78f-4831-c25c-e1d88f3798df"
      },
      "outputs": [
        {
          "output_type": "execute_result",
          "data": {
            "application/vnd.google.colaboratory.intrinsic+json": {
              "type": "string"
            },
            "text/plain": [
              "'I certify that the code and data in this assignment were generated independently, using only the tools and resources defined in the course and that I did not receive any external help, coaching or contributions during the production of this work.'"
            ]
          },
          "metadata": {},
          "execution_count": 50
        }
      ],
      "source": [
        "# ADD YOUR ACADEMIC INTERGITY STATEMENT HERE AS A COMMENT BLOCK BELOW. CHECK IMPORTANT NOTE FOR MORE DETAILS.\n",
        "\n",
        "\"I certify that the code and data in this assignment were generated independently, using only the tools and resources defined in the course and that I did not receive any external help, coaching or contributions during the production of this work.\"\n",
        "\n",
        "\n",
        "\n",
        "\n",
        "\n",
        "\n",
        "# END OF YOUR ACADEMIC INTERGITY STATEMENT"
      ]
    },
    {
      "cell_type": "markdown",
      "metadata": {
        "id": "RiMGYifjvnmy"
      },
      "source": [
        "<a id='part1'></a>\n",
        "## Part 1 - Pyhton Basics [20 points]"
      ]
    },
    {
      "cell_type": "markdown",
      "metadata": {
        "id": "2LUCpwD6vnm1"
      },
      "source": [
        "The first part of this assignment gives you practice with python syntax. Follow the cells below for the instructions."
      ]
    },
    {
      "cell_type": "code",
      "execution_count": 51,
      "metadata": {
        "colab": {
          "base_uri": "https://localhost:8080/"
        },
        "id": "pYW7jZF2vnm2",
        "outputId": "a29439ab-f366-40e1-b0a4-5891f31fcd1e"
      },
      "outputs": [
        {
          "output_type": "stream",
          "name": "stdout",
          "text": [
            "Hello\n",
            "Hello\n",
            "Hello\n",
            "Hello\n",
            "Hello\n",
            "Hello\n",
            "Hello\n",
            "Hello\n",
            "Hello\n",
            "Hello\n",
            "Hello\n",
            "Hello\n",
            "Hello\n",
            "Hello\n",
            "Hello\n",
            "Hello\n",
            "Hello\n",
            "Hello\n",
            "Hello\n",
            "Hello\n",
            "Hello\n",
            "Hello\n",
            "Hello\n",
            "Hello\n",
            "Hello\n",
            "Hello\n",
            "Hello\n",
            "Hello\n",
            "Hello\n",
            "Hello\n",
            "Hello\n",
            "Hello\n",
            "Hello\n",
            "Hello\n",
            "Hello\n",
            "Hello\n",
            "Hello\n",
            "Hello\n",
            "Hello\n",
            "Hello\n",
            "Hello\n",
            "Hello\n",
            "Hello\n",
            "Hello\n",
            "Hello\n",
            "Hello\n",
            "Hello\n",
            "Hello\n",
            "Hello\n",
            "Hello\n",
            "Hello\n",
            "Hello\n",
            "Hello\n",
            "Hello\n",
            "Hello\n",
            "Hello\n",
            "Hello\n",
            "Hello\n",
            "Hello\n",
            "Hello\n",
            "Hello\n",
            "Hello\n",
            "Hello\n",
            "Hello\n",
            "Hello\n",
            "Hello\n",
            "Hello\n",
            "Hello\n",
            "Hello\n",
            "Hello\n",
            "Hello\n",
            "Hello\n",
            "Hello\n",
            "Hello\n",
            "Hello\n",
            "Hello\n",
            "Hello\n",
            "Hello\n",
            "Hello\n",
            "Hello\n",
            "Hello\n",
            "Hello\n",
            "Hello\n",
            "Hello\n",
            "Hello\n",
            "Hello\n",
            "Hello\n",
            "Hello\n",
            "Hello\n",
            "Hello\n",
            "Hello\n",
            "Hello\n",
            "Hello\n",
            "Hello\n",
            "Hello\n",
            "Hello\n",
            "Hello\n",
            "Hello\n",
            "Hello\n",
            "Hello\n",
            "Hello\n",
            "\n"
          ]
        }
      ],
      "source": [
        "''' Hello\n",
        "Print a word \"Hello \" 101 times\n",
        "'''\n",
        "\n",
        "# BEGIN_YOUR_CODE\n",
        "a = \"Hello\\n\"*101\n",
        "print(a)\n",
        "# END_YOUR_CODE"
      ]
    },
    {
      "cell_type": "code",
      "execution_count": 52,
      "metadata": {
        "colab": {
          "base_uri": "https://localhost:8080/"
        },
        "id": "cxwhgLy2NVA5",
        "outputId": "ee4fb243-31e7-4144-a590-3ff66e38ad8d"
      },
      "outputs": [
        {
          "output_type": "stream",
          "name": "stdout",
          "text": [
            "Hello UB\n"
          ]
        }
      ],
      "source": [
        "''' Hello World\n",
        "Using two variables hello and world defined below return 'Hello UB'. \n",
        "'''\n",
        "\n",
        "hello  = 'Hello'\n",
        "world = 'UB'\n",
        "\n",
        "# BEGIN_YOUR_CODE\n",
        "def my_function(hello,world):\n",
        "  print(hello+\" \"+world)\n",
        "my_function('Hello', 'UB')\n",
        "# END_YOUR_CODE"
      ]
    },
    {
      "cell_type": "code",
      "execution_count": 53,
      "metadata": {
        "colab": {
          "base_uri": "https://localhost:8080/"
        },
        "id": "p-W1rWb3NVA6",
        "outputId": "c087f74a-e8ef-43c9-a5ae-a6d29ce5d735"
      },
      "outputs": [
        {
          "output_type": "stream",
          "name": "stdout",
          "text": [
            "[0, 1, '2', '3', 4, 5]\n"
          ]
        }
      ],
      "source": [
        "''' Updating elements\n",
        "Given a string my_list, update the third element to '2' and fourth element to '3', so the output is as follows: [0, 1, 2, 3, 4, 5]\n",
        "'''\n",
        "\n",
        "my_list = [0, 1, 'two', 'three', 4, 5]\n",
        "\n",
        "# BEGIN_YOUR_CODE\n",
        "my_list[2] = '2'\n",
        "my_list[3] = '3'\n",
        "print(my_list)\n",
        "\n",
        "# END_YOUR_CODE"
      ]
    },
    {
      "cell_type": "code",
      "execution_count": 54,
      "metadata": {
        "colab": {
          "base_uri": "https://localhost:8080/"
        },
        "id": "0djb3jV8NVA6",
        "outputId": "2e4f1c62-6c14-4970-c444-65e49c334ba3"
      },
      "outputs": [
        {
          "output_type": "stream",
          "name": "stdout",
          "text": [
            "0\n",
            "1\n",
            "1\n",
            "2\n",
            "3\n",
            "5\n",
            "8\n",
            "13\n",
            "21\n",
            "34\n",
            "55\n",
            "89\n"
          ]
        }
      ],
      "source": [
        "'''Fibonacci Series\n",
        "Print the first 12 Fibonacci numbers\n",
        "'''\n",
        "\n",
        "# BEGIN_YOUR_CODE\n",
        "n =12\n",
        "a = 0\n",
        "b = 1\n",
        "if(n==1):\n",
        "  print(a)\n",
        "else:\n",
        "  print(a)\n",
        "  print(b)\n",
        "for i in range(2,n):\n",
        "  c = a+b \n",
        "  a=b \n",
        "  b=c\n",
        "  print(c)\n",
        "# END_YOUR_CODE"
      ]
    },
    {
      "cell_type": "code",
      "execution_count": 55,
      "metadata": {
        "colab": {
          "base_uri": "https://localhost:8080/"
        },
        "id": "eQ7SJvrLvnm5",
        "outputId": "cc08278d-d1d4-4d55-cd80-a6b5eb1e390b"
      },
      "outputs": [
        {
          "output_type": "execute_result",
          "data": {
            "text/plain": [
              "['The Matrix Resurrections',\n",
              " 'The Matrix Revolutions',\n",
              " 'The Matrix Reloaded',\n",
              " 'The Matrix']"
            ]
          },
          "metadata": {},
          "execution_count": 55
        }
      ],
      "source": [
        "''' Reversing\n",
        "Reverse the order of elements in a list given below, so the output is as follows: ['The Matrix Resurrections', 'The Matrix Revolutions', 'The Matrix Reloaded', 'The Matrix']\n",
        "'''\n",
        "\n",
        "list1 = [\"The Matrix\", \"The Matrix Reloaded\", \"The Matrix Revolutions\", \"The Matrix Resurrections\"]\n",
        "\n",
        "# BEGIN_YOUR_CODE\n",
        "list1[::-1]\n",
        "# END_YOUR_CODE"
      ]
    },
    {
      "cell_type": "code",
      "execution_count": 56,
      "metadata": {
        "colab": {
          "base_uri": "https://localhost:8080/"
        },
        "id": "G472Jj3gvnm6",
        "outputId": "cddcdaa5-1203-41c0-b07b-e6c645f1a9d3"
      },
      "outputs": [
        {
          "output_type": "stream",
          "name": "stdout",
          "text": [
            "python\n"
          ]
        }
      ],
      "source": [
        "'''Concatenating strings\n",
        "Concatenate strings in a list below, so the output is as follows: \"python\"\n",
        "'''\n",
        "\n",
        "list2 = ['p', 'y', 't', 'h', 'o', 'n']\n",
        "\n",
        "# BEGIN_YOUR_CODE\n",
        "print(\"\".join(map(str, list2)))\n",
        "\n",
        "# END_YOUR_CODE"
      ]
    },
    {
      "cell_type": "code",
      "execution_count": 57,
      "metadata": {
        "colab": {
          "base_uri": "https://localhost:8080/"
        },
        "id": "vsIKrnuFvnm7",
        "outputId": "75fc9f7c-6c6e-4e09-f73a-109d734ecfbd"
      },
      "outputs": [
        {
          "output_type": "stream",
          "name": "stdout",
          "text": [
            "1 Yann LeCun\n",
            "2 Yoshua Bengio\n",
            "3 Geoffrey Hinton\n",
            "4 Fei-Fei Li\n",
            "5 Andrew Ng\n"
          ]
        }
      ],
      "source": [
        "'''Numbering a list\n",
        "Print a numbered list of the famous AI researchers using \"enumerate()\" function\n",
        "'''\n",
        "\n",
        "researchers = ['Yann LeCun', 'Yoshua Bengio', 'Geoffrey Hinton', 'Fei-Fei Li', 'Andrew Ng']\n",
        "\n",
        "# BEGIN_YOUR_CODE\n",
        "for i, item in enumerate(researchers,1):\n",
        "  print(i, item)\n",
        "# END_YOUR_CODE"
      ]
    },
    {
      "cell_type": "code",
      "execution_count": 58,
      "metadata": {
        "colab": {
          "base_uri": "https://localhost:8080/"
        },
        "id": "Izsh0n6Hvnm8",
        "outputId": "d4664d55-bd20-4ab1-a8ff-c6555d15973b"
      },
      "outputs": [
        {
          "output_type": "stream",
          "name": "stdout",
          "text": [
            "[('Yann LeCun', 'Facebook'), ('Yoshua Bengio', 'Université de Montréal'), ('Geoffrey Hinton', 'University of Toronto'), ('Fei-Fei Li', 'Stanford University'), ('Andrew Ng', 'Landing AI')]\n"
          ]
        }
      ],
      "source": [
        "'''Combining lists\n",
        "Combine two lists given below using zip() fucntion and print out the result\n",
        "'''\n",
        "\n",
        "researchers = ['Yann LeCun', 'Yoshua Bengio', 'Geoffrey Hinton', 'Fei-Fei Li', 'Andrew Ng']\n",
        "work = ['Facebook', 'Université de Montréal', 'University of Toronto', 'Stanford University', 'Landing AI']\n",
        "\n",
        "# BEGIN_YOUR_CODE\n",
        "a = zip(researchers,work)\n",
        "print(list(a))\n",
        "# END_YOUR_CODE"
      ]
    },
    {
      "cell_type": "code",
      "execution_count": 59,
      "metadata": {
        "colab": {
          "base_uri": "https://localhost:8080/"
        },
        "id": "y-4OFkElNVA8",
        "outputId": "70979a33-5b45-4d13-ebc4-d65c91dc99af"
      },
      "outputs": [
        {
          "output_type": "stream",
          "name": "stdout",
          "text": [
            "[1, 4, 27, 16, 125, 36, 343, 64, 729, 100, 1331]\n"
          ]
        }
      ],
      "source": [
        "'''Print squares of even numbers and cubes of odd numbers for numbers from 1 till 12.\n",
        "So the output comes in the form as follows: [1, 4, 27, 16, 125, 36, ....]\n",
        "'''\n",
        "\n",
        "# BEGIN_YOUR_CODE\n",
        "l = []\n",
        "for i in range(1,12):\n",
        "  if i%2 == 0:\n",
        "    l1 = i**2\n",
        "    l.append(l1)\n",
        "  else :\n",
        "    l2 = i**3\n",
        "    l.append(l2)\n",
        "print(l)\n",
        "# END_YOUR_CODE"
      ]
    },
    {
      "cell_type": "code",
      "execution_count": 60,
      "metadata": {
        "id": "tM242AlVvnm9",
        "colab": {
          "base_uri": "https://localhost:8080/"
        },
        "outputId": "2a365d16-ce22-4fc7-ea2b-a0f4bfc573ae"
      },
      "outputs": [
        {
          "output_type": "stream",
          "name": "stdout",
          "text": [
            "5\n"
          ]
        }
      ],
      "source": [
        "''' Sum function\n",
        "Modify the function below to return a sum of a and b\n",
        "'''\n",
        "\n",
        "def add(a: int, b: int) -> int:\n",
        "    \n",
        "    # BEGIN_YOUR_CODE\n",
        "    #raise Exception(\"Not implemented yet\")\n",
        "  sum = a+b\n",
        "  return sum\n",
        "print(add(2,3))\n",
        "    # END_YOUR_CODE"
      ]
    },
    {
      "cell_type": "markdown",
      "metadata": {
        "id": "o4HwFdtlvnm_"
      },
      "source": [
        "We defined ```add_test``` to test your ```add``` function. For this function we ```import random``` library. This is a very commonly used package that helps to generate random values. For example:\n",
        "\n",
        "``` python\n",
        "random.randint(0, 100) #Returns any random integer from 0 to 100\n",
        "```"
      ]
    },
    {
      "cell_type": "code",
      "execution_count": 61,
      "metadata": {
        "id": "TfVs9QUIvnnA"
      },
      "outputs": [],
      "source": [
        "import random\n",
        "\n",
        "def add_test():\n",
        "    a = random.randint(0, 9)\n",
        "    b = random.randint(0, 9)\n",
        "    result = add(a, b)\n",
        "\n",
        "    return('Value of a is {0}, value of b is {1}, and their sum is {2}.'.format(a, b,result))"
      ]
    },
    {
      "cell_type": "code",
      "execution_count": 62,
      "metadata": {
        "colab": {
          "base_uri": "https://localhost:8080/"
        },
        "id": "cOLrlf2GvnnB",
        "outputId": "318a3792-0e7b-4e19-b3e8-44418d3001e8"
      },
      "outputs": [
        {
          "output_type": "stream",
          "name": "stdout",
          "text": [
            "Value of a is 8, value of b is 2, and their sum is 10.\n"
          ]
        }
      ],
      "source": [
        "# Here we call our function 'add_test' to test your add function with random values\n",
        "if __name__ == '__main__':\n",
        "    print(add_test())"
      ]
    },
    {
      "cell_type": "markdown",
      "metadata": {
        "id": "12yDhDMxvnnB"
      },
      "source": [
        "<a id='part2'></a>\n",
        "## Part 2 - Numpy Basics [20 points]"
      ]
    },
    {
      "cell_type": "markdown",
      "metadata": {
        "id": "-JmI82NyvnnC"
      },
      "source": [
        "In this section we will explore one of the most commonly used package - Numpy. You can refer to the [Official NumPy Guide](https://numpy.org/doc/stable/)."
      ]
    },
    {
      "cell_type": "code",
      "execution_count": 63,
      "metadata": {
        "id": "CstiC-8CvnnC"
      },
      "outputs": [],
      "source": [
        "'''Import the numpy package\n",
        "'''\n",
        "\n",
        "# BEGIN_YOUR_CODE\n",
        "import numpy as np\n",
        "\n",
        "# END_YOUR_CODE"
      ]
    },
    {
      "cell_type": "code",
      "execution_count": 64,
      "metadata": {
        "colab": {
          "base_uri": "https://localhost:8080/"
        },
        "id": "2Cdaj9aTvnnE",
        "outputId": "4db89876-d578-4731-e6ee-aca179c4f840"
      },
      "outputs": [
        {
          "output_type": "stream",
          "name": "stdout",
          "text": [
            "[23 30 33 19 38 21 38 40 46  6]\n"
          ]
        }
      ],
      "source": [
        "''' Random integers\n",
        "Create an array of random integers from 0 to 50 with the length 10 using numpy random generator\n",
        "'''\n",
        "\n",
        "# BEGIN_YOUR_CODE\n",
        "array = np.random.randint(0,50,10)\n",
        "# END_YOUR_CODE\n",
        "\n",
        "print(array)"
      ]
    },
    {
      "cell_type": "code",
      "execution_count": 65,
      "metadata": {
        "colab": {
          "base_uri": "https://localhost:8080/"
        },
        "id": "D_NEdSyVvnnF",
        "outputId": "f457df39-59a2-42a3-8fdf-66c406107345"
      },
      "outputs": [
        {
          "output_type": "stream",
          "name": "stdout",
          "text": [
            "The first 2 elements are [23 30] \n",
            "The last two elements are [46  6] \n",
            "Elements in the middle are [33 19 38 21 38 40].\n"
          ]
        }
      ],
      "source": [
        "''' Slicing\n",
        "Slice the above array and extract the first 2 elements, the last two elements, and all elements that are left in the middle.\n",
        "'''\n",
        "\n",
        "# BEGIN_YOUR_CODE\n",
        "first_two = array[0:2]\n",
        "last_two = array[-2:]\n",
        "middle = array[2:-2]\n",
        "# END_YOUR_CODE\n",
        "\n",
        "print('The first 2 elements are {0} \\nThe last two elements are {1} \\nElements in the middle are {2}.'.format(first_two, last_two, middle))"
      ]
    },
    {
      "cell_type": "code",
      "execution_count": 66,
      "metadata": {
        "colab": {
          "base_uri": "https://localhost:8080/"
        },
        "id": "krSJJoH7NVA_",
        "outputId": "2b531615-f00a-46fb-a83b-0a1163456c06"
      },
      "outputs": [
        {
          "output_type": "execute_result",
          "data": {
            "text/plain": [
              "[array([23, 30]),\n",
              " array([33, 19]),\n",
              " array([38, 21]),\n",
              " array([38, 40]),\n",
              " array([46,  6])]"
            ]
          },
          "metadata": {},
          "execution_count": 66
        }
      ],
      "source": [
        "'''Split an array\n",
        "For the above list 'array' split the list into 5 equal parts  and print it in the form\n",
        "[array([1,2]), array([3,4]), array([5,6]), array([7,8]), array([9,10])]\n",
        "\n",
        "'''\n",
        "\n",
        "# BEGIN_YOUR_CODE\n",
        "np.array_split(array,5)\n",
        "# END_YOUR_CODE"
      ]
    },
    {
      "cell_type": "code",
      "execution_count": 67,
      "metadata": {
        "colab": {
          "base_uri": "https://localhost:8080/"
        },
        "id": "pha_OsMhNVA_",
        "outputId": "4929d7ea-2693-4ba5-9558-0820e58f64e1"
      },
      "outputs": [
        {
          "output_type": "stream",
          "name": "stdout",
          "text": [
            "[62 45 73 25 38 85 10 72 11 35]\n",
            "[21 51 38 18 85 33  2 33 49 25]\n",
            "[10 11 25 35 38 45 62 72 73 85]\n",
            "[25 38 85]\n"
          ]
        }
      ],
      "source": [
        "'''Generate two arrays of size 10 (integers randomly selected between 1 and 100). \n",
        "Print unique elements of array1 and common elements of both arrays separately\n",
        "'''\n",
        "\n",
        "# BEGIN_YOUR_CODE\n",
        "array1 = np.random.randint(1,100,10)\n",
        "array2 = np.random.randint(1,100,10) \n",
        "unique_elements_array1 = np.unique(array1)\n",
        "common_elements_array1_array2 = np.intersect1d(array1,array2)\n",
        "print(array1)\n",
        "print(array2)\n",
        "print(unique_elements_array1)\n",
        "print(common_elements_array1_array2)\n",
        "# END_YOUR_CODE"
      ]
    },
    {
      "cell_type": "code",
      "execution_count": 68,
      "metadata": {
        "colab": {
          "base_uri": "https://localhost:8080/"
        },
        "id": "x39Fry3OvnnF",
        "outputId": "7a3aeea2-fd7f-4f5c-d16f-2f52d60a6baf"
      },
      "outputs": [
        {
          "output_type": "stream",
          "name": "stdout",
          "text": [
            "[[23 30]\n",
            " [33 19]\n",
            " [38 21]\n",
            " [38 40]\n",
            " [46  6]]\n",
            "(5, 2)\n"
          ]
        }
      ],
      "source": [
        "'''Changing dimensions\n",
        "Convert your 1D array defined above to a 2D matrix and print its shape. The final output dimension should be 5x2.\n",
        "'''\n",
        "\n",
        "# BEGIN_YOUR_CODE\n",
        "c = array.reshape(5,2)\n",
        "d = c.shape\n",
        "print(c)\n",
        "print(d)\n",
        "# END_YOUR_CODE"
      ]
    },
    {
      "cell_type": "code",
      "execution_count": 69,
      "metadata": {
        "colab": {
          "base_uri": "https://localhost:8080/"
        },
        "id": "GTPk6XwivnnG",
        "outputId": "59111808-e8e9-4373-9c1e-8d26d9daed7d"
      },
      "outputs": [
        {
          "output_type": "execute_result",
          "data": {
            "text/plain": [
              "array([1, 2, 3, 4, 5, 6])"
            ]
          },
          "metadata": {},
          "execution_count": 69
        }
      ],
      "source": [
        "'''Changing dimensions\n",
        "Convert a matrix below to 1D array and print its dimension\n",
        "'''\n",
        "\n",
        "A = np.array([[1,2], [3,4], [5,6]])\n",
        "# BEGIN_YOUR_CODE\n",
        "A.flatten()\n",
        "# END_YOUR_CODE"
      ]
    },
    {
      "cell_type": "code",
      "execution_count": 70,
      "metadata": {
        "colab": {
          "base_uri": "https://localhost:8080/"
        },
        "id": "ALyMwuojvnnM",
        "outputId": "3d55193a-66e2-4462-b3f3-95bc27067844"
      },
      "outputs": [
        {
          "output_type": "stream",
          "name": "stdout",
          "text": [
            "\n",
            "Matrix A is \n",
            "[[0.26885978 0.21163465 0.71288749 0.50279565 0.15362356 0.88177592]\n",
            " [0.97554263 0.60539071 0.946263   0.3875088  0.36263408 0.71668371]\n",
            " [0.07879206 0.30902198 0.72564078 0.4931918  0.08984655 0.05422124]\n",
            " [0.89291538 0.70393372 0.61084707 0.47327818 0.51859424 0.83553347]\n",
            " [0.31773332 0.1377492  0.84374429 0.41374331 0.07470631 0.52473905]] \n",
            "Matrix B is \n",
            "[[0.45615408 0.17276014 0.84009997 0.9346241  0.40656241]\n",
            " [0.39826744 0.46985244 0.20878    0.10091323 0.82267453]\n",
            " [0.57678794 0.28359643 0.99685533 0.19366863 0.46088417]\n",
            " [0.10242609 0.94874417 0.33746701 0.7107405  0.73017203]\n",
            " [0.7411063  0.38094777 0.95949639 0.69323166 0.96357234]\n",
            " [0.47799142 0.69194861 0.19027089 0.58038628 0.09410012]], \n",
            "Their product is \n",
            "[[1.20494569 1.49374827 1.46555436 1.3863281  1.21010323]\n",
            " [1.88290832 1.72303565 2.50431569 2.09888005 2.03058839]\n",
            " [0.7205744  0.904254   1.11702982 0.68964434 1.07248548]\n",
            " [1.87217742 1.88296267 2.32231439 2.20469445 2.14756527]\n",
            " [1.03502209 1.14298453 1.44792574 1.12467298 1.0548363 ]]\n"
          ]
        }
      ],
      "source": [
        "''' Matrices\n",
        "Create two matrices A and B of size 5X6 and 6X5 respectively with random values from 0 to 1, and perform the dot product on them\n",
        "'''\n",
        "\n",
        "# BEGIN_YOUR_CODE\n",
        "A = np.random.uniform(0,1, size = (5,6))\n",
        "B = np.random.uniform(0,1,size = (6,5))\n",
        "dot_product= np.dot(A, B)\n",
        "\n",
        "# END_YOUR_CODE\n",
        "\n",
        "print('\\nMatrix A is \\n{0} \\nMatrix B is \\n{1}, \\nTheir product is \\n{2}'.format(A, B, dot_product))"
      ]
    },
    {
      "cell_type": "code",
      "execution_count": 71,
      "metadata": {
        "colab": {
          "base_uri": "https://localhost:8080/"
        },
        "id": "cf2kSBLXvnnN",
        "outputId": "86722a7b-6172-4cba-9a45-74e083e3ec40"
      },
      "outputs": [
        {
          "output_type": "execute_result",
          "data": {
            "text/plain": [
              "array([0.88177592, 0.97554263, 0.72564078, 0.89291538, 0.84374429])"
            ]
          },
          "metadata": {},
          "execution_count": 71
        }
      ],
      "source": [
        "''' Maximum value\n",
        "Return the maximum value present in each row of Matrix A created in the previous question. \n",
        "Result should come in the form: [row1_max row2_max row3_max row4_max row5_max]\n",
        "'''\n",
        "\n",
        "# BEGIN_YOUR_CODE\n",
        "np.amax(A,axis=1)\n",
        "# END_YOUR_CODE"
      ]
    },
    {
      "cell_type": "code",
      "execution_count": 72,
      "metadata": {
        "colab": {
          "base_uri": "https://localhost:8080/"
        },
        "id": "khuCG55GvnnO",
        "outputId": "0cb27036-4fe9-4d41-8199-cc25724c1a99"
      },
      "outputs": [
        {
          "output_type": "execute_result",
          "data": {
            "text/plain": [
              "array([[0.80657935, 0.63490395, 2.13866247, 1.50838694, 0.46087068,\n",
              "        2.64532777],\n",
              "       [2.92662788, 1.81617213, 2.83878899, 1.16252641, 1.08790223,\n",
              "        2.15005112],\n",
              "       [0.23637619, 0.92706594, 2.17692234, 1.47957541, 0.26953964,\n",
              "        0.16266373],\n",
              "       [2.67874614, 2.11180115, 1.8325412 , 1.41983455, 1.55578271,\n",
              "        2.50660042],\n",
              "       [0.95319996, 0.4132476 , 2.53123287, 1.24122993, 0.22411892,\n",
              "        1.57421714]])"
            ]
          },
          "metadata": {},
          "execution_count": 72
        }
      ],
      "source": [
        "''' Multiply the Matrix A from previous question with a scalar 3\n",
        "'''\n",
        "\n",
        "# BEGIN_YOUR_CODE\n",
        "n = 3\n",
        "np.multiply(A, 3)\n",
        "# END_YOUR_CODE"
      ]
    },
    {
      "cell_type": "code",
      "execution_count": 73,
      "metadata": {
        "colab": {
          "base_uri": "https://localhost:8080/"
        },
        "id": "KVFM3ERnvnnP",
        "outputId": "f282a4ff-56e5-4620-819e-4a71982693e2"
      },
      "outputs": [
        {
          "output_type": "stream",
          "name": "stdout",
          "text": [
            "\n",
            "Matrix A is \n",
            "[[0 5 5 3]\n",
            " [0 3 1 6]] \n",
            "Matrix B is \n",
            "[[1 1 7 6]\n",
            " [5 2 7 3]], \n",
            "Their element-wise multiplication is \n",
            "[[ 0  5 35 18]\n",
            " [ 0  6  7 18]]\n"
          ]
        }
      ],
      "source": [
        "''' Element-wise multiplication\n",
        "Define two matrices A and B 2x4 with random values from 0 to 9. Perform element-wise multiplication of Matrices A and B\n",
        "''' \n",
        "\n",
        "# BEGIN_YOUR_CODE\n",
        "A = np.random.randint(0,9, size = (2,4))\n",
        "B = np.random.randint(0,9, size = (2,4))\n",
        "multiplicaiton = np.multiply(A,B)\n",
        "# END_YOUR_CODE\n",
        "\n",
        "print('\\nMatrix A is \\n{0} \\nMatrix B is \\n{1}, \\nTheir element-wise multiplication is \\n{2}'.format(A, B, multiplicaiton))"
      ]
    },
    {
      "cell_type": "markdown",
      "metadata": {
        "id": "uiyFNoJivnnQ"
      },
      "source": [
        "<a id='part3'></a>\n",
        "## Part 3 - Algorithms [30 points]"
      ]
    },
    {
      "cell_type": "markdown",
      "metadata": {
        "id": "bE9PC_sEvnnQ"
      },
      "source": [
        "### Euclidian Distance\n",
        "\n",
        "Let point $p$ have Cartesian coordinates $(p_1,p_2)$ and let point $q$ have coordinates $(q_1,q_2)$. Then the distance between $p$ and $q$ is given by:\n",
        "    $d(p,q) = \\sqrt{(q_1-p_1)^2 + (q_2-p_2)^2}$.</math>"
      ]
    },
    {
      "cell_type": "code",
      "execution_count": 74,
      "metadata": {
        "id": "eWfSpbVqvnnR"
      },
      "outputs": [],
      "source": [
        "''' Euclidean distance\n",
        "Using numpy library return the Euclidean distance between two locations, where the locations are pairs of numbers (e.g., (3, 5)) '''\n",
        "\n",
        "def euclidean_distance(loc1: int, loc2: int) -> float:\n",
        "\n",
        "    # BEGIN_YOUR_CODE\n",
        "    #raise Exception(\"Not implemented yet\")\n",
        "    euclidean_distance_value = np.sqrt((loc2[0] - loc1[0])**2+ (loc2[1] - loc1[1])**2)\n",
        "    return euclidean_distance_value\n",
        "    # END_YOUR_CODE"
      ]
    },
    {
      "cell_type": "code",
      "execution_count": 75,
      "metadata": {
        "id": "aKXPrvGBvnnR"
      },
      "outputs": [],
      "source": [
        "def euclidean_distance_test():\n",
        "    random.seed(34)\n",
        "    for _ in range(10):\n",
        "        x1 = random.randint(0, 10)\n",
        "        x2 = random.randint(0, 10)\n",
        "        y1 = random.randint(0, 10)\n",
        "        y2 = random.randint(0, 10)\n",
        "        dist = euclidean_distance((x1, x2), (y1, y2))\n",
        "    return('Loc1 is ({0}, {1}), loc2 is ({2}, {3}). Euclidian disctance is {4}.'.format(x1, x2, y1, y2, dist))"
      ]
    },
    {
      "cell_type": "code",
      "execution_count": 76,
      "metadata": {
        "colab": {
          "base_uri": "https://localhost:8080/"
        },
        "id": "yI3g4R1hvnnR",
        "outputId": "971937db-a526-44b7-97ca-7d2d75a514c0"
      },
      "outputs": [
        {
          "output_type": "stream",
          "name": "stdout",
          "text": [
            "Loc1 is (5, 3), loc2 is (3, 7). Euclidian disctance is 4.47213595499958.\n"
          ]
        }
      ],
      "source": [
        "if __name__ == '__main__':\n",
        "    print(euclidean_distance_test())"
      ]
    },
    {
      "cell_type": "markdown",
      "metadata": {
        "id": "lTuFruDrvnnR"
      },
      "source": [
        "### String Operations"
      ]
    },
    {
      "cell_type": "code",
      "execution_count": 77,
      "metadata": {
        "id": "AGJHIeXkvnnS"
      },
      "outputs": [],
      "source": [
        "''' Alphabetically first word\n",
        "Given a string, lowecase, sort our all words in the alphabetical order and return the word that comes first.\n",
        "If the input text is an empty string, return an empty string or throw an error. '''\n",
        "\n",
        "def first_word(text: str) -> str:\n",
        "    \n",
        "    # BEGIN_YOUR_CODE\n",
        "    text = text.lower().split(\" \")\n",
        "    text.sort()\n",
        "    return text[0]\n",
        "    # text = text.sort()\n",
        "    \n",
        "    # END_YOUR_CODE"
      ]
    },
    {
      "cell_type": "code",
      "execution_count": 78,
      "metadata": {
        "id": "Suevhw9TvnnS"
      },
      "outputs": [],
      "source": [
        "def first_word_test():\n",
        "    result0 = first_word('WelCome tO Ub')\n",
        "    result1 = first_word('CSE574 IntRo to ML cLasS')\n",
        "    result2 = first_word('SequenCes of DeCiSions')\n",
        "    result3 = first_word('Wolf, Panther, Leopard, Dog, Cat')\n",
        "    return result0, result1, result2, result3"
      ]
    },
    {
      "cell_type": "code",
      "execution_count": 79,
      "metadata": {
        "colab": {
          "base_uri": "https://localhost:8080/"
        },
        "id": "DfSoFXLrvnnT",
        "outputId": "136ce2de-4108-4a7b-c990-87cbda80ecb6"
      },
      "outputs": [
        {
          "output_type": "stream",
          "name": "stdout",
          "text": [
            "('to', 'class', 'decisions', 'cat')\n"
          ]
        }
      ],
      "source": [
        "if __name__ == '__main__':\n",
        "    print(first_word_test())"
      ]
    },
    {
      "cell_type": "markdown",
      "metadata": {
        "id": "zW6tTqawDOBv"
      },
      "source": [
        "## Load from Drive*\n",
        "\n",
        "*If you are using Goolge Colab, uncomment the following piece of code and verify the file using the command, if you can see your file ```museum.csv``` you are good to go."
      ]
    },
    {
      "cell_type": "code",
      "execution_count": 80,
      "metadata": {
        "colab": {
          "base_uri": "https://localhost:8080/"
        },
        "id": "_wfW59o4NVBD",
        "outputId": "91bae714-24c1-45c0-c0b9-40f3f9df5675"
      },
      "outputs": [
        {
          "output_type": "stream",
          "name": "stdout",
          "text": [
            "/content/drive/MyDrive\n",
            " 16241A0482.pdf\n",
            " 3_Als.ipynb\n",
            "'CamScanner 10-28-2020 17.34.59_1.jpg'\n",
            " Classroom\n",
            "'Colab Notebooks'\n",
            "'Copy of Student Buzz.gform'\n",
            " dc1cf93b-1cf7-4be0-8d21-6bc30d22c8d4-compressed.jpg\n",
            " DSC_0156.JPG\n",
            "'EVS .pptx'\n",
            " Gre\n",
            " Haberman_data_set.Assign\n",
            "'How to get started with Drive.pdf'\n",
            "'IMG_20171104_214455 (1).jpg'\n",
            " IMG_20171104_214455.jpg\n",
            " IMG_20200105_093238_662.jpg\n",
            " inbound1923224412869569050.pdf\n",
            " inbound4478694920264434902.jpg\n",
            " Lab1.ipynb\n",
            "'LOR Sriharsha Gullapalli.docx'\n",
            "'[Matthew_N._O._Sadiku]_Elements_of_Electromagnetic(Bookos.org).pdf'\n",
            " museums.csv\n",
            " Pdf\n",
            "'resume (1).gdoc'\n",
            "'Resume (1).pdf'\n",
            " resume.gdoc\n",
            " Resume.pdf\n",
            " Screenshot_20200815-150445.jpg\n",
            " Screenshot_20210120-162137.jpg\n",
            "'semester 2.pdf'\n",
            "'SQl Commands.gdoc'\n",
            "'Sri Harsha ssc (1).pdf'\n",
            "'Sri Harsha ssc.pdf'\n",
            " Statement-2469198.pdf\n",
            "'Student Buzz.gform'\n",
            "'Untitled form (1).gform'\n",
            "'Untitled form.gform'\n",
            "'Untitled spreadsheet.gsheet'\n"
          ]
        }
      ],
      "source": [
        "!pwd\n",
        "!ls"
      ]
    },
    {
      "cell_type": "code",
      "execution_count": 81,
      "metadata": {
        "id": "nV7Jv5SPDGsy",
        "colab": {
          "base_uri": "https://localhost:8080/"
        },
        "outputId": "05d1df0f-cd99-4ac4-a25c-8c3c95b15a6c"
      },
      "outputs": [
        {
          "output_type": "stream",
          "name": "stdout",
          "text": [
            "Drive already mounted at /content/drive; to attempt to forcibly remount, call drive.mount(\"/content/drive\", force_remount=True).\n",
            "/content/drive\n",
            "/content/drive/MyDrive\n"
          ]
        }
      ],
      "source": [
        "from google.colab import drive\n",
        "drive.mount('/content/drive')\n",
        "%cd ..\n",
        "%cd /content/drive/MyDrive"
      ]
    },
    {
      "cell_type": "markdown",
      "metadata": {
        "id": "zGMa8NVpvnnU"
      },
      "source": [
        "<a id='part4'></a>\n",
        "##  Part 4 - Pandas Basics [20 points]\n",
        "\n",
        "Some important resources:\n",
        "\n",
        "- [A Pandas guide](https://pandasguide.readthedocs.io/en/latest/) covers fundamental information about the package\n",
        "\n",
        "- [Pandas Cheat Sheet](https://www.datacamp.com/community/blog/python-pandas-cheat-sheet)"
      ]
    },
    {
      "cell_type": "code",
      "execution_count": 82,
      "metadata": {
        "id": "-JA6l-hpvnnU"
      },
      "outputs": [],
      "source": [
        "'''Install and import pandas library\n",
        "'''\n",
        "\n",
        "# BEGIN_YOUR_CODE\n",
        "import pandas as pd\n",
        "# END_YOUR_CODE"
      ]
    },
    {
      "cell_type": "code",
      "execution_count": 83,
      "metadata": {
        "id": "vNYL_RNyvnnV",
        "colab": {
          "base_uri": "https://localhost:8080/"
        },
        "outputId": "5e4d3eac-3a2d-4870-dbd4-8c557e33f9fb"
      },
      "outputs": [
        {
          "output_type": "stream",
          "name": "stderr",
          "text": [
            "/usr/local/lib/python3.7/dist-packages/IPython/core/interactiveshell.py:2882: DtypeWarning: Columns (9,14,21) have mixed types.Specify dtype option on import or set low_memory=False.\n",
            "  exec(code_obj, self.user_global_ns, self.user_ns)\n"
          ]
        }
      ],
      "source": [
        "'''Read given 'DataFile' and extract into Dataframe\n",
        "'''\n",
        "\n",
        "# BEGIN_YOUR_CODE\n",
        "df = pd.read_csv(\"museums.csv\")\n",
        "# END_YOUR_CODE"
      ]
    },
    {
      "cell_type": "code",
      "execution_count": 84,
      "metadata": {
        "id": "nQhbLF7CvnnV",
        "colab": {
          "base_uri": "https://localhost:8080/",
          "height": 395
        },
        "outputId": "8d112feb-e8d4-4251-db66-92b75d701bc6"
      },
      "outputs": [
        {
          "output_type": "execute_result",
          "data": {
            "text/html": [
              "\n",
              "  <div id=\"df-dbf04eac-9b14-43f9-bef7-d7f4c6a4a458\">\n",
              "    <div class=\"colab-df-container\">\n",
              "      <div>\n",
              "<style scoped>\n",
              "    .dataframe tbody tr th:only-of-type {\n",
              "        vertical-align: middle;\n",
              "    }\n",
              "\n",
              "    .dataframe tbody tr th {\n",
              "        vertical-align: top;\n",
              "    }\n",
              "\n",
              "    .dataframe thead th {\n",
              "        text-align: right;\n",
              "    }\n",
              "</style>\n",
              "<table border=\"1\" class=\"dataframe\">\n",
              "  <thead>\n",
              "    <tr style=\"text-align: right;\">\n",
              "      <th></th>\n",
              "      <th>Museum ID</th>\n",
              "      <th>Zip Code (Physical Location)</th>\n",
              "      <th>Latitude</th>\n",
              "      <th>Longitude</th>\n",
              "      <th>Locale Code (NCES)</th>\n",
              "      <th>County Code (FIPS)</th>\n",
              "      <th>State Code (FIPS)</th>\n",
              "      <th>Region Code (AAM)</th>\n",
              "      <th>Tax Period</th>\n",
              "      <th>Income</th>\n",
              "      <th>Revenue</th>\n",
              "    </tr>\n",
              "  </thead>\n",
              "  <tbody>\n",
              "    <tr>\n",
              "      <th>count</th>\n",
              "      <td>3.307200e+04</td>\n",
              "      <td>9221.000000</td>\n",
              "      <td>33007.000000</td>\n",
              "      <td>33007.000000</td>\n",
              "      <td>32995.000000</td>\n",
              "      <td>30536.000000</td>\n",
              "      <td>33071.000000</td>\n",
              "      <td>33072.000000</td>\n",
              "      <td>23280.000000</td>\n",
              "      <td>2.296100e+04</td>\n",
              "      <td>2.229000e+04</td>\n",
              "    </tr>\n",
              "    <tr>\n",
              "      <th>mean</th>\n",
              "      <td>8.403812e+09</td>\n",
              "      <td>47805.644616</td>\n",
              "      <td>38.925372</td>\n",
              "      <td>-90.816757</td>\n",
              "      <td>2.505834</td>\n",
              "      <td>85.701926</td>\n",
              "      <td>29.065828</td>\n",
              "      <td>3.670083</td>\n",
              "      <td>201347.458548</td>\n",
              "      <td>1.069682e+08</td>\n",
              "      <td>2.097605e+07</td>\n",
              "    </tr>\n",
              "    <tr>\n",
              "      <th>std</th>\n",
              "      <td>2.662542e+06</td>\n",
              "      <td>30210.265032</td>\n",
              "      <td>5.126213</td>\n",
              "      <td>16.489087</td>\n",
              "      <td>1.211841</td>\n",
              "      <td>105.668318</td>\n",
              "      <td>15.431254</td>\n",
              "      <td>1.539274</td>\n",
              "      <td>67.670742</td>\n",
              "      <td>2.509287e+09</td>\n",
              "      <td>2.485197e+08</td>\n",
              "    </tr>\n",
              "    <tr>\n",
              "      <th>min</th>\n",
              "      <td>8.400100e+09</td>\n",
              "      <td>1002.000000</td>\n",
              "      <td>0.000000</td>\n",
              "      <td>-166.541260</td>\n",
              "      <td>1.000000</td>\n",
              "      <td>1.000000</td>\n",
              "      <td>1.000000</td>\n",
              "      <td>1.000000</td>\n",
              "      <td>199906.000000</td>\n",
              "      <td>-9.230000e+02</td>\n",
              "      <td>-2.127393e+06</td>\n",
              "    </tr>\n",
              "    <tr>\n",
              "      <th>25%</th>\n",
              "      <td>8.401801e+09</td>\n",
              "      <td>20180.000000</td>\n",
              "      <td>35.567720</td>\n",
              "      <td>-97.651155</td>\n",
              "      <td>1.000000</td>\n",
              "      <td>25.000000</td>\n",
              "      <td>17.000000</td>\n",
              "      <td>2.000000</td>\n",
              "      <td>201312.000000</td>\n",
              "      <td>0.000000e+00</td>\n",
              "      <td>0.000000e+00</td>\n",
              "    </tr>\n",
              "    <tr>\n",
              "      <th>50%</th>\n",
              "      <td>8.403600e+09</td>\n",
              "      <td>47448.000000</td>\n",
              "      <td>39.831640</td>\n",
              "      <td>-86.776840</td>\n",
              "      <td>2.000000</td>\n",
              "      <td>61.000000</td>\n",
              "      <td>29.000000</td>\n",
              "      <td>4.000000</td>\n",
              "      <td>201312.000000</td>\n",
              "      <td>8.781000e+03</td>\n",
              "      <td>3.307000e+03</td>\n",
              "    </tr>\n",
              "    <tr>\n",
              "      <th>75%</th>\n",
              "      <td>8.404801e+09</td>\n",
              "      <td>74743.000000</td>\n",
              "      <td>42.237490</td>\n",
              "      <td>-77.616930</td>\n",
              "      <td>4.000000</td>\n",
              "      <td>109.000000</td>\n",
              "      <td>42.000000</td>\n",
              "      <td>5.000000</td>\n",
              "      <td>201408.000000</td>\n",
              "      <td>2.163770e+05</td>\n",
              "      <td>1.676960e+05</td>\n",
              "    </tr>\n",
              "    <tr>\n",
              "      <th>max</th>\n",
              "      <td>8.409504e+09</td>\n",
              "      <td>99901.000000</td>\n",
              "      <td>70.669760</td>\n",
              "      <td>0.000000</td>\n",
              "      <td>4.000000</td>\n",
              "      <td>840.000000</td>\n",
              "      <td>90.000000</td>\n",
              "      <td>6.000000</td>\n",
              "      <td>201504.000000</td>\n",
              "      <td>8.318144e+10</td>\n",
              "      <td>5.840349e+09</td>\n",
              "    </tr>\n",
              "  </tbody>\n",
              "</table>\n",
              "</div>\n",
              "      <button class=\"colab-df-convert\" onclick=\"convertToInteractive('df-dbf04eac-9b14-43f9-bef7-d7f4c6a4a458')\"\n",
              "              title=\"Convert this dataframe to an interactive table.\"\n",
              "              style=\"display:none;\">\n",
              "        \n",
              "  <svg xmlns=\"http://www.w3.org/2000/svg\" height=\"24px\"viewBox=\"0 0 24 24\"\n",
              "       width=\"24px\">\n",
              "    <path d=\"M0 0h24v24H0V0z\" fill=\"none\"/>\n",
              "    <path d=\"M18.56 5.44l.94 2.06.94-2.06 2.06-.94-2.06-.94-.94-2.06-.94 2.06-2.06.94zm-11 1L8.5 8.5l.94-2.06 2.06-.94-2.06-.94L8.5 2.5l-.94 2.06-2.06.94zm10 10l.94 2.06.94-2.06 2.06-.94-2.06-.94-.94-2.06-.94 2.06-2.06.94z\"/><path d=\"M17.41 7.96l-1.37-1.37c-.4-.4-.92-.59-1.43-.59-.52 0-1.04.2-1.43.59L10.3 9.45l-7.72 7.72c-.78.78-.78 2.05 0 2.83L4 21.41c.39.39.9.59 1.41.59.51 0 1.02-.2 1.41-.59l7.78-7.78 2.81-2.81c.8-.78.8-2.07 0-2.86zM5.41 20L4 18.59l7.72-7.72 1.47 1.35L5.41 20z\"/>\n",
              "  </svg>\n",
              "      </button>\n",
              "      \n",
              "  <style>\n",
              "    .colab-df-container {\n",
              "      display:flex;\n",
              "      flex-wrap:wrap;\n",
              "      gap: 12px;\n",
              "    }\n",
              "\n",
              "    .colab-df-convert {\n",
              "      background-color: #E8F0FE;\n",
              "      border: none;\n",
              "      border-radius: 50%;\n",
              "      cursor: pointer;\n",
              "      display: none;\n",
              "      fill: #1967D2;\n",
              "      height: 32px;\n",
              "      padding: 0 0 0 0;\n",
              "      width: 32px;\n",
              "    }\n",
              "\n",
              "    .colab-df-convert:hover {\n",
              "      background-color: #E2EBFA;\n",
              "      box-shadow: 0px 1px 2px rgba(60, 64, 67, 0.3), 0px 1px 3px 1px rgba(60, 64, 67, 0.15);\n",
              "      fill: #174EA6;\n",
              "    }\n",
              "\n",
              "    [theme=dark] .colab-df-convert {\n",
              "      background-color: #3B4455;\n",
              "      fill: #D2E3FC;\n",
              "    }\n",
              "\n",
              "    [theme=dark] .colab-df-convert:hover {\n",
              "      background-color: #434B5C;\n",
              "      box-shadow: 0px 1px 3px 1px rgba(0, 0, 0, 0.15);\n",
              "      filter: drop-shadow(0px 1px 2px rgba(0, 0, 0, 0.3));\n",
              "      fill: #FFFFFF;\n",
              "    }\n",
              "  </style>\n",
              "\n",
              "      <script>\n",
              "        const buttonEl =\n",
              "          document.querySelector('#df-dbf04eac-9b14-43f9-bef7-d7f4c6a4a458 button.colab-df-convert');\n",
              "        buttonEl.style.display =\n",
              "          google.colab.kernel.accessAllowed ? 'block' : 'none';\n",
              "\n",
              "        async function convertToInteractive(key) {\n",
              "          const element = document.querySelector('#df-dbf04eac-9b14-43f9-bef7-d7f4c6a4a458');\n",
              "          const dataTable =\n",
              "            await google.colab.kernel.invokeFunction('convertToInteractive',\n",
              "                                                     [key], {});\n",
              "          if (!dataTable) return;\n",
              "\n",
              "          const docLinkHtml = 'Like what you see? Visit the ' +\n",
              "            '<a target=\"_blank\" href=https://colab.research.google.com/notebooks/data_table.ipynb>data table notebook</a>'\n",
              "            + ' to learn more about interactive tables.';\n",
              "          element.innerHTML = '';\n",
              "          dataTable['output_type'] = 'display_data';\n",
              "          await google.colab.output.renderOutput(dataTable, element);\n",
              "          const docLink = document.createElement('div');\n",
              "          docLink.innerHTML = docLinkHtml;\n",
              "          element.appendChild(docLink);\n",
              "        }\n",
              "      </script>\n",
              "    </div>\n",
              "  </div>\n",
              "  "
            ],
            "text/plain": [
              "          Museum ID  Zip Code (Physical Location)  ...        Income       Revenue\n",
              "count  3.307200e+04                   9221.000000  ...  2.296100e+04  2.229000e+04\n",
              "mean   8.403812e+09                  47805.644616  ...  1.069682e+08  2.097605e+07\n",
              "std    2.662542e+06                  30210.265032  ...  2.509287e+09  2.485197e+08\n",
              "min    8.400100e+09                   1002.000000  ... -9.230000e+02 -2.127393e+06\n",
              "25%    8.401801e+09                  20180.000000  ...  0.000000e+00  0.000000e+00\n",
              "50%    8.403600e+09                  47448.000000  ...  8.781000e+03  3.307000e+03\n",
              "75%    8.404801e+09                  74743.000000  ...  2.163770e+05  1.676960e+05\n",
              "max    8.409504e+09                  99901.000000  ...  8.318144e+10  5.840349e+09\n",
              "\n",
              "[8 rows x 11 columns]"
            ]
          },
          "metadata": {},
          "execution_count": 84
        }
      ],
      "source": [
        "'''Provide the main statistics about the entries of the dataset (mean, std, etc.)\n",
        "'''\n",
        "\n",
        "# BEGIN_YOUR_CODE\n",
        "df.describe()\n",
        "# END_YOUR_CODE"
      ]
    },
    {
      "cell_type": "code",
      "execution_count": 85,
      "metadata": {
        "id": "JnuZGhGwvnnW",
        "colab": {
          "base_uri": "https://localhost:8080/"
        },
        "outputId": "1ccb7e3c-b257-42d5-f11e-a3cf1c8f0ff3"
      },
      "outputs": [
        {
          "output_type": "execute_result",
          "data": {
            "text/plain": [
              "(33072, 25)"
            ]
          },
          "metadata": {},
          "execution_count": 85
        }
      ],
      "source": [
        "''' Print shape of the dataset '''\n",
        "\n",
        "# BEGIN_YOUR_CODE\n",
        "df.shape\n",
        "\n",
        "# END_YOUR_CODE"
      ]
    },
    {
      "cell_type": "code",
      "execution_count": 86,
      "metadata": {
        "id": "nFWD5zl8vnne",
        "colab": {
          "base_uri": "https://localhost:8080/"
        },
        "outputId": "219291c2-07a4-4834-90fb-a475965b3629"
      },
      "outputs": [
        {
          "output_type": "execute_result",
          "data": {
            "text/plain": [
              "Index(['Museum ID', 'Museum Name', 'Legal Name', 'Alternate Name',\n",
              "       'Museum Type', 'Institution Name',\n",
              "       'Street Address (Administrative Location)',\n",
              "       'City (Administrative Location)', 'State (Administrative Location)',\n",
              "       'Zip Code (Administrative Location)',\n",
              "       'Street Address (Physical Location)', 'City (Physical Location)',\n",
              "       'State (Physical Location)', 'Zip Code (Physical Location)',\n",
              "       'Phone Number', 'Latitude', 'Longitude', 'Locale Code (NCES)',\n",
              "       'County Code (FIPS)', 'State Code (FIPS)', 'Region Code (AAM)',\n",
              "       'Employer ID Number', 'Tax Period', 'Income', 'Revenue'],\n",
              "      dtype='object')"
            ]
          },
          "metadata": {},
          "execution_count": 86
        }
      ],
      "source": [
        "''' Return all the colums names'''\n",
        "\n",
        "# BEGIN_YOUR_CODE\n",
        "df.columns\n",
        "# END_YOUR_CODE"
      ]
    },
    {
      "cell_type": "code",
      "execution_count": 87,
      "metadata": {
        "id": "6-1Dj0sGvnng",
        "colab": {
          "base_uri": "https://localhost:8080/"
        },
        "outputId": "fd7ed7a0-4e77-4fde-d474-f826ee60e4db"
      },
      "outputs": [
        {
          "output_type": "execute_result",
          "data": {
            "text/plain": [
              "0                                       HISTORY MUSEUM\n",
              "1        ARBORETUM, BOTANICAL GARDEN, OR NATURE CENTER\n",
              "2           SCIENCE & TECHNOLOGY MUSEUM OR PLANETARIUM\n",
              "3                                HISTORIC PRESERVATION\n",
              "4                                       HISTORY MUSEUM\n",
              "                             ...                      \n",
              "33067                            HISTORIC PRESERVATION\n",
              "33068                                   GENERAL MUSEUM\n",
              "33069                            HISTORIC PRESERVATION\n",
              "33070                                   HISTORY MUSEUM\n",
              "33071                            HISTORIC PRESERVATION\n",
              "Name: Museum Type, Length: 33072, dtype: object"
            ]
          },
          "metadata": {},
          "execution_count": 87
        }
      ],
      "source": [
        "''' Print a list of museums types '''\n",
        "\n",
        "# BEGIN_YOUR_CODE\n",
        "df['Museum Type']\n",
        "# END_YOUR_CODE"
      ]
    },
    {
      "cell_type": "code",
      "execution_count": 88,
      "metadata": {
        "id": "wUSzjQC3vnng",
        "colab": {
          "base_uri": "https://localhost:8080/"
        },
        "outputId": "19d30552-fbb3-416c-e642-42d14fbb78af"
      },
      "outputs": [
        {
          "output_type": "execute_result",
          "data": {
            "text/plain": [
              "Index(['Museum ID', 'Museum Name', 'Legal Name', 'Alternate Name',\n",
              "       'Museum Type', 'Institution Name',\n",
              "       'Street Address (Administrative Location)',\n",
              "       'City (Administrative Location)', 'State (Administrative Location)',\n",
              "       'Zip Code (Administrative Location)',\n",
              "       'Street Address (Physical Location)', 'City (Physical Location)',\n",
              "       'State (Physical Location)', 'Zip Code (Physical Location)',\n",
              "       'Phone Number', 'Latitude', 'Longitude', 'Locale Code (NCES)',\n",
              "       'County Code (FIPS)', 'State Code (FIPS)', 'Region Code (AAM)',\n",
              "       'Employer ID Number', 'Tax Period', 'Income', 'Revenue'],\n",
              "      dtype='object')"
            ]
          },
          "metadata": {},
          "execution_count": 88
        }
      ],
      "source": [
        "''' Return insight about index(columns) of museum.csv '''\n",
        "\n",
        "# BEGIN_YOUR_CODE\n",
        "df.columns\n",
        "# END_YOUR_CODE"
      ]
    },
    {
      "cell_type": "code",
      "execution_count": 89,
      "metadata": {
        "id": "bgjxneD4NVBG",
        "colab": {
          "base_uri": "https://localhost:8080/",
          "height": 1000
        },
        "outputId": "66e62d01-4b81-4693-b62e-fa8a60877f07"
      },
      "outputs": [
        {
          "output_type": "execute_result",
          "data": {
            "text/html": [
              "\n",
              "  <div id=\"df-fec40212-a5ed-4e5e-8558-90093f3a9fa9\">\n",
              "    <div class=\"colab-df-container\">\n",
              "      <div>\n",
              "<style scoped>\n",
              "    .dataframe tbody tr th:only-of-type {\n",
              "        vertical-align: middle;\n",
              "    }\n",
              "\n",
              "    .dataframe tbody tr th {\n",
              "        vertical-align: top;\n",
              "    }\n",
              "\n",
              "    .dataframe thead th {\n",
              "        text-align: right;\n",
              "    }\n",
              "</style>\n",
              "<table border=\"1\" class=\"dataframe\">\n",
              "  <thead>\n",
              "    <tr style=\"text-align: right;\">\n",
              "      <th></th>\n",
              "      <th>Museum ID</th>\n",
              "      <th>Museum Name</th>\n",
              "      <th>Legal Name</th>\n",
              "      <th>Alternate Name</th>\n",
              "      <th>Museum Type</th>\n",
              "      <th>Institution Name</th>\n",
              "      <th>Street Address (Administrative Location)</th>\n",
              "      <th>City (Administrative Location)</th>\n",
              "      <th>State (Administrative Location)</th>\n",
              "      <th>Zip Code (Administrative Location)</th>\n",
              "      <th>Street Address (Physical Location)</th>\n",
              "      <th>City (Physical Location)</th>\n",
              "      <th>State (Physical Location)</th>\n",
              "      <th>Zip Code (Physical Location)</th>\n",
              "      <th>Phone Number</th>\n",
              "      <th>Latitude</th>\n",
              "      <th>Longitude</th>\n",
              "      <th>Locale Code (NCES)</th>\n",
              "      <th>County Code (FIPS)</th>\n",
              "      <th>State Code (FIPS)</th>\n",
              "      <th>Region Code (AAM)</th>\n",
              "      <th>Employer ID Number</th>\n",
              "      <th>Tax Period</th>\n",
              "      <th>Income</th>\n",
              "      <th>Revenue</th>\n",
              "    </tr>\n",
              "  </thead>\n",
              "  <tbody>\n",
              "    <tr>\n",
              "      <th>0</th>\n",
              "      <td>8400200098</td>\n",
              "      <td>ALASKA AVIATION HERITAGE MUSEUM</td>\n",
              "      <td>ALASKA AVIATION HERITAGE MUSEUM</td>\n",
              "      <td>NaN</td>\n",
              "      <td>HISTORY MUSEUM</td>\n",
              "      <td>NaN</td>\n",
              "      <td>4721 AIRCRAFT DR</td>\n",
              "      <td>ANCHORAGE</td>\n",
              "      <td>AK</td>\n",
              "      <td>99502</td>\n",
              "      <td>NaN</td>\n",
              "      <td>NaN</td>\n",
              "      <td>NaN</td>\n",
              "      <td>NaN</td>\n",
              "      <td>9072485325</td>\n",
              "      <td>61.17925</td>\n",
              "      <td>-149.97254</td>\n",
              "      <td>1.0</td>\n",
              "      <td>20.0</td>\n",
              "      <td>2.0</td>\n",
              "      <td>6</td>\n",
              "      <td>920071852</td>\n",
              "      <td>201312.0</td>\n",
              "      <td>602912.0</td>\n",
              "      <td>550236.0</td>\n",
              "    </tr>\n",
              "    <tr>\n",
              "      <th>1</th>\n",
              "      <td>8400200117</td>\n",
              "      <td>ALASKA BOTANICAL GARDEN</td>\n",
              "      <td>ALASKA BOTANICAL GARDEN INC</td>\n",
              "      <td>NaN</td>\n",
              "      <td>ARBORETUM, BOTANICAL GARDEN, OR NATURE CENTER</td>\n",
              "      <td>NaN</td>\n",
              "      <td>4601 CAMPBELL AIRSTRIP RD</td>\n",
              "      <td>ANCHORAGE</td>\n",
              "      <td>AK</td>\n",
              "      <td>99507</td>\n",
              "      <td>NaN</td>\n",
              "      <td>NaN</td>\n",
              "      <td>NaN</td>\n",
              "      <td>NaN</td>\n",
              "      <td>9077703692</td>\n",
              "      <td>61.16890</td>\n",
              "      <td>-149.76708</td>\n",
              "      <td>4.0</td>\n",
              "      <td>20.0</td>\n",
              "      <td>2.0</td>\n",
              "      <td>6</td>\n",
              "      <td>920115504</td>\n",
              "      <td>201312.0</td>\n",
              "      <td>1379576.0</td>\n",
              "      <td>1323742.0</td>\n",
              "    </tr>\n",
              "    <tr>\n",
              "      <th>2</th>\n",
              "      <td>8400200153</td>\n",
              "      <td>ALASKA CHALLENGER CENTER FOR SPACE SCIENCE TEC...</td>\n",
              "      <td>ALASKA CHALLENGER CENTER FOR SPACE SCIENCE TEC...</td>\n",
              "      <td>NaN</td>\n",
              "      <td>SCIENCE &amp; TECHNOLOGY MUSEUM OR PLANETARIUM</td>\n",
              "      <td>NaN</td>\n",
              "      <td>9711 KENAI SPUR HWY</td>\n",
              "      <td>KENAI</td>\n",
              "      <td>AK</td>\n",
              "      <td>99611</td>\n",
              "      <td>NaN</td>\n",
              "      <td>NaN</td>\n",
              "      <td>NaN</td>\n",
              "      <td>NaN</td>\n",
              "      <td>9072832000</td>\n",
              "      <td>60.56149</td>\n",
              "      <td>-151.21598</td>\n",
              "      <td>3.0</td>\n",
              "      <td>122.0</td>\n",
              "      <td>2.0</td>\n",
              "      <td>6</td>\n",
              "      <td>921761906</td>\n",
              "      <td>201312.0</td>\n",
              "      <td>740030.0</td>\n",
              "      <td>729080.0</td>\n",
              "    </tr>\n",
              "    <tr>\n",
              "      <th>3</th>\n",
              "      <td>8400200143</td>\n",
              "      <td>ALASKA EDUCATORS HISTORICAL SOCIETY</td>\n",
              "      <td>ALASKA EDUCATORS HISTORICAL SOCIETY</td>\n",
              "      <td>NaN</td>\n",
              "      <td>HISTORIC PRESERVATION</td>\n",
              "      <td>NaN</td>\n",
              "      <td>214 BIRCH STREET</td>\n",
              "      <td>KENAI</td>\n",
              "      <td>AK</td>\n",
              "      <td>99611</td>\n",
              "      <td>NaN</td>\n",
              "      <td>NaN</td>\n",
              "      <td>NaN</td>\n",
              "      <td>NaN</td>\n",
              "      <td>2142472478</td>\n",
              "      <td>60.56280</td>\n",
              "      <td>-151.26597</td>\n",
              "      <td>3.0</td>\n",
              "      <td>122.0</td>\n",
              "      <td>2.0</td>\n",
              "      <td>6</td>\n",
              "      <td>920165178</td>\n",
              "      <td>201412.0</td>\n",
              "      <td>0.0</td>\n",
              "      <td>0.0</td>\n",
              "    </tr>\n",
              "    <tr>\n",
              "      <th>4</th>\n",
              "      <td>8400200027</td>\n",
              "      <td>ALASKA HERITAGE MUSEUM</td>\n",
              "      <td>ALASKA AVIATION HERITAGE MUSEUM</td>\n",
              "      <td>NaN</td>\n",
              "      <td>HISTORY MUSEUM</td>\n",
              "      <td>NaN</td>\n",
              "      <td>301 W NORTHERN LIGHTS BLVD</td>\n",
              "      <td>ANCHORAGE</td>\n",
              "      <td>AK</td>\n",
              "      <td>99503</td>\n",
              "      <td>NaN</td>\n",
              "      <td>NaN</td>\n",
              "      <td>NaN</td>\n",
              "      <td>NaN</td>\n",
              "      <td>9072652834</td>\n",
              "      <td>61.17925</td>\n",
              "      <td>-149.97254</td>\n",
              "      <td>1.0</td>\n",
              "      <td>20.0</td>\n",
              "      <td>2.0</td>\n",
              "      <td>6</td>\n",
              "      <td>920071852</td>\n",
              "      <td>201312.0</td>\n",
              "      <td>602912.0</td>\n",
              "      <td>550236.0</td>\n",
              "    </tr>\n",
              "    <tr>\n",
              "      <th>5</th>\n",
              "      <td>8400200096</td>\n",
              "      <td>ALASKA HISTORICAL MUSEUM</td>\n",
              "      <td>ALASKA HISTORICAL MUSEUM INC</td>\n",
              "      <td>NaN</td>\n",
              "      <td>HISTORIC PRESERVATION</td>\n",
              "      <td>NaN</td>\n",
              "      <td>1675 E 5TH AVE</td>\n",
              "      <td>ANCHORAGE</td>\n",
              "      <td>AK</td>\n",
              "      <td>99501</td>\n",
              "      <td>NaN</td>\n",
              "      <td>NaN</td>\n",
              "      <td>NaN</td>\n",
              "      <td>NaN</td>\n",
              "      <td>NaN</td>\n",
              "      <td>61.21785</td>\n",
              "      <td>-149.85049</td>\n",
              "      <td>1.0</td>\n",
              "      <td>20.0</td>\n",
              "      <td>2.0</td>\n",
              "      <td>6</td>\n",
              "      <td>920062352</td>\n",
              "      <td>NaN</td>\n",
              "      <td>NaN</td>\n",
              "      <td>NaN</td>\n",
              "    </tr>\n",
              "    <tr>\n",
              "      <th>6</th>\n",
              "      <td>8400200078</td>\n",
              "      <td>ALASKA JEWISH MUSEUM</td>\n",
              "      <td>ALASKA JEWISH HISTORICAL MUSEUM AND CULTURAL C...</td>\n",
              "      <td>NaN</td>\n",
              "      <td>GENERAL MUSEUM</td>\n",
              "      <td>NaN</td>\n",
              "      <td>1117 E 35TH AVE</td>\n",
              "      <td>ANCHORAGE</td>\n",
              "      <td>AK</td>\n",
              "      <td>99508</td>\n",
              "      <td>1221 E 35TH AVENUE</td>\n",
              "      <td>ANCHORAGE</td>\n",
              "      <td>AK</td>\n",
              "      <td>99508.0</td>\n",
              "      <td>9077707021</td>\n",
              "      <td>61.18946</td>\n",
              "      <td>-149.86071</td>\n",
              "      <td>1.0</td>\n",
              "      <td>20.0</td>\n",
              "      <td>2.0</td>\n",
              "      <td>6</td>\n",
              "      <td>711010049</td>\n",
              "      <td>201312.0</td>\n",
              "      <td>2658938.0</td>\n",
              "      <td>34374.0</td>\n",
              "    </tr>\n",
              "    <tr>\n",
              "      <th>7</th>\n",
              "      <td>8400200084</td>\n",
              "      <td>ALASKA LIGHTHOUSE ASSOCIATION</td>\n",
              "      <td>ALASKA LIGHTHOUSE ASSOCIATION</td>\n",
              "      <td>NaN</td>\n",
              "      <td>HISTORIC PRESERVATION</td>\n",
              "      <td>NaN</td>\n",
              "      <td>2116 B 2ND ST</td>\n",
              "      <td>DOUGLAS</td>\n",
              "      <td>AK</td>\n",
              "      <td>99824</td>\n",
              "      <td>NaN</td>\n",
              "      <td>NaN</td>\n",
              "      <td>NaN</td>\n",
              "      <td>NaN</td>\n",
              "      <td>NaN</td>\n",
              "      <td>58.28299</td>\n",
              "      <td>-134.40583</td>\n",
              "      <td>3.0</td>\n",
              "      <td>110.0</td>\n",
              "      <td>2.0</td>\n",
              "      <td>6</td>\n",
              "      <td>911833974</td>\n",
              "      <td>201312.0</td>\n",
              "      <td>16500.0</td>\n",
              "      <td>16500.0</td>\n",
              "    </tr>\n",
              "    <tr>\n",
              "      <th>8</th>\n",
              "      <td>8400200107</td>\n",
              "      <td>ALASKA MASONIC LIBRARY AND MUSEUM FOUNDATION</td>\n",
              "      <td>ALASKA MASONIC LIBRARY AND MUSEUM FOUNDATION</td>\n",
              "      <td>NaN</td>\n",
              "      <td>GENERAL MUSEUM</td>\n",
              "      <td>NaN</td>\n",
              "      <td>PO BOX 190668</td>\n",
              "      <td>ANCHORAGE</td>\n",
              "      <td>AK</td>\n",
              "      <td>99519</td>\n",
              "      <td>606 W 4TH AVE</td>\n",
              "      <td>ANCHORAGE</td>\n",
              "      <td>AK</td>\n",
              "      <td>99519.0</td>\n",
              "      <td>9072762665</td>\n",
              "      <td>61.21833</td>\n",
              "      <td>-149.89456</td>\n",
              "      <td>1.0</td>\n",
              "      <td>20.0</td>\n",
              "      <td>2.0</td>\n",
              "      <td>6</td>\n",
              "      <td>920095561</td>\n",
              "      <td>201406.0</td>\n",
              "      <td>0.0</td>\n",
              "      <td>0.0</td>\n",
              "    </tr>\n",
              "    <tr>\n",
              "      <th>9</th>\n",
              "      <td>8400200073</td>\n",
              "      <td>ALASKA MINING HALL OF FAME FOUNDATION</td>\n",
              "      <td>ALASKA MINING HALL OF FAME FOUNDATION</td>\n",
              "      <td>NaN</td>\n",
              "      <td>HISTORY MUSEUM</td>\n",
              "      <td>NaN</td>\n",
              "      <td>PO BOX 81906</td>\n",
              "      <td>FAIRBANKS</td>\n",
              "      <td>AK</td>\n",
              "      <td>99708</td>\n",
              "      <td>NaN</td>\n",
              "      <td>NaN</td>\n",
              "      <td>NaN</td>\n",
              "      <td>NaN</td>\n",
              "      <td>NaN</td>\n",
              "      <td>64.85079</td>\n",
              "      <td>-147.82945</td>\n",
              "      <td>2.0</td>\n",
              "      <td>90.0</td>\n",
              "      <td>2.0</td>\n",
              "      <td>6</td>\n",
              "      <td>550819611</td>\n",
              "      <td>201412.0</td>\n",
              "      <td>184295.0</td>\n",
              "      <td>31393.0</td>\n",
              "    </tr>\n",
              "  </tbody>\n",
              "</table>\n",
              "</div>\n",
              "      <button class=\"colab-df-convert\" onclick=\"convertToInteractive('df-fec40212-a5ed-4e5e-8558-90093f3a9fa9')\"\n",
              "              title=\"Convert this dataframe to an interactive table.\"\n",
              "              style=\"display:none;\">\n",
              "        \n",
              "  <svg xmlns=\"http://www.w3.org/2000/svg\" height=\"24px\"viewBox=\"0 0 24 24\"\n",
              "       width=\"24px\">\n",
              "    <path d=\"M0 0h24v24H0V0z\" fill=\"none\"/>\n",
              "    <path d=\"M18.56 5.44l.94 2.06.94-2.06 2.06-.94-2.06-.94-.94-2.06-.94 2.06-2.06.94zm-11 1L8.5 8.5l.94-2.06 2.06-.94-2.06-.94L8.5 2.5l-.94 2.06-2.06.94zm10 10l.94 2.06.94-2.06 2.06-.94-2.06-.94-.94-2.06-.94 2.06-2.06.94z\"/><path d=\"M17.41 7.96l-1.37-1.37c-.4-.4-.92-.59-1.43-.59-.52 0-1.04.2-1.43.59L10.3 9.45l-7.72 7.72c-.78.78-.78 2.05 0 2.83L4 21.41c.39.39.9.59 1.41.59.51 0 1.02-.2 1.41-.59l7.78-7.78 2.81-2.81c.8-.78.8-2.07 0-2.86zM5.41 20L4 18.59l7.72-7.72 1.47 1.35L5.41 20z\"/>\n",
              "  </svg>\n",
              "      </button>\n",
              "      \n",
              "  <style>\n",
              "    .colab-df-container {\n",
              "      display:flex;\n",
              "      flex-wrap:wrap;\n",
              "      gap: 12px;\n",
              "    }\n",
              "\n",
              "    .colab-df-convert {\n",
              "      background-color: #E8F0FE;\n",
              "      border: none;\n",
              "      border-radius: 50%;\n",
              "      cursor: pointer;\n",
              "      display: none;\n",
              "      fill: #1967D2;\n",
              "      height: 32px;\n",
              "      padding: 0 0 0 0;\n",
              "      width: 32px;\n",
              "    }\n",
              "\n",
              "    .colab-df-convert:hover {\n",
              "      background-color: #E2EBFA;\n",
              "      box-shadow: 0px 1px 2px rgba(60, 64, 67, 0.3), 0px 1px 3px 1px rgba(60, 64, 67, 0.15);\n",
              "      fill: #174EA6;\n",
              "    }\n",
              "\n",
              "    [theme=dark] .colab-df-convert {\n",
              "      background-color: #3B4455;\n",
              "      fill: #D2E3FC;\n",
              "    }\n",
              "\n",
              "    [theme=dark] .colab-df-convert:hover {\n",
              "      background-color: #434B5C;\n",
              "      box-shadow: 0px 1px 3px 1px rgba(0, 0, 0, 0.15);\n",
              "      filter: drop-shadow(0px 1px 2px rgba(0, 0, 0, 0.3));\n",
              "      fill: #FFFFFF;\n",
              "    }\n",
              "  </style>\n",
              "\n",
              "      <script>\n",
              "        const buttonEl =\n",
              "          document.querySelector('#df-fec40212-a5ed-4e5e-8558-90093f3a9fa9 button.colab-df-convert');\n",
              "        buttonEl.style.display =\n",
              "          google.colab.kernel.accessAllowed ? 'block' : 'none';\n",
              "\n",
              "        async function convertToInteractive(key) {\n",
              "          const element = document.querySelector('#df-fec40212-a5ed-4e5e-8558-90093f3a9fa9');\n",
              "          const dataTable =\n",
              "            await google.colab.kernel.invokeFunction('convertToInteractive',\n",
              "                                                     [key], {});\n",
              "          if (!dataTable) return;\n",
              "\n",
              "          const docLinkHtml = 'Like what you see? Visit the ' +\n",
              "            '<a target=\"_blank\" href=https://colab.research.google.com/notebooks/data_table.ipynb>data table notebook</a>'\n",
              "            + ' to learn more about interactive tables.';\n",
              "          element.innerHTML = '';\n",
              "          dataTable['output_type'] = 'display_data';\n",
              "          await google.colab.output.renderOutput(dataTable, element);\n",
              "          const docLink = document.createElement('div');\n",
              "          docLink.innerHTML = docLinkHtml;\n",
              "          element.appendChild(docLink);\n",
              "        }\n",
              "      </script>\n",
              "    </div>\n",
              "  </div>\n",
              "  "
            ],
            "text/plain": [
              "    Museum ID  ...    Revenue\n",
              "0  8400200098  ...   550236.0\n",
              "1  8400200117  ...  1323742.0\n",
              "2  8400200153  ...   729080.0\n",
              "3  8400200143  ...        0.0\n",
              "4  8400200027  ...   550236.0\n",
              "5  8400200096  ...        NaN\n",
              "6  8400200078  ...    34374.0\n",
              "7  8400200084  ...    16500.0\n",
              "8  8400200107  ...        0.0\n",
              "9  8400200073  ...    31393.0\n",
              "\n",
              "[10 rows x 25 columns]"
            ]
          },
          "metadata": {},
          "execution_count": 89
        }
      ],
      "source": [
        "'''Print top 10 rows of the dataset'''\n",
        "\n",
        "# BEGIN_YOUR_CODE\n",
        "df.head(10)\n",
        "# END_YOUR_CODE"
      ]
    },
    {
      "cell_type": "markdown",
      "metadata": {
        "id": "YNq5ppEGvnnh"
      },
      "source": [
        "<a id='part5'></a>\n",
        "## Matplotlib Basics [20 points]"
      ]
    },
    {
      "cell_type": "markdown",
      "metadata": {
        "id": "MyidlhZlIPa2"
      },
      "source": [
        "Heatmaps are a useful plot tool which help us visualize the data density or distribution. Refer the below documentation for more details on heatmap.\n",
        "\n",
        "[Matplotlib tutorial](https://machinelearningknowledge.ai/matplotlib-heatmap-complete-tutorial-for-beginners/)\n",
        "\n",
        "**Note:** You can only use matplotlib library for the following tasks"
      ]
    },
    {
      "cell_type": "code",
      "execution_count": 90,
      "metadata": {
        "id": "bfFqEdGEvnnh"
      },
      "outputs": [],
      "source": [
        "''' Install and import matplotlib library\n",
        "'''\n",
        "\n",
        "# BEGIN_YOUR_CODE\n",
        "import matplotlib.pyplot as plt\n",
        "# END_YOUR_CODE"
      ]
    },
    {
      "cell_type": "code",
      "execution_count": 91,
      "metadata": {
        "id": "25-jR3OHstb_",
        "colab": {
          "base_uri": "https://localhost:8080/",
          "height": 281
        },
        "outputId": "df54ca00-9455-4297-8994-3770dff36107"
      },
      "outputs": [
        {
          "output_type": "display_data",
          "data": {
            "image/png": "[encoded data removed]",
            "text/plain": [
              "<Figure size 432x288 with 1 Axes>"
            ]
          },
          "metadata": {
            "needs_background": "light"
          }
        }
      ],
      "source": [
        "''' Heatmap\n",
        "Take any random numpy array of dimension 10x15 and plot a heatmap\n",
        "'''\n",
        "\n",
        "# BEGIN YOUR CODE\n",
        "array = np.random.rand(10,15)\n",
        "plt.imshow(array, cmap = 'hot',interpolation= 'nearest')\n",
        "plt.title(\"Heat map\")\n",
        "plt.show()\n",
        "# END YOUR CODE"
      ]
    },
    {
      "cell_type": "code",
      "execution_count": 92,
      "metadata": {
        "id": "VD6WIdUU4-PA",
        "colab": {
          "base_uri": "https://localhost:8080/",
          "height": 319
        },
        "outputId": "050ded70-1a76-4827-ae42-b2e76068820e"
      },
      "outputs": [
        {
          "output_type": "stream",
          "name": "stdout",
          "text": [
            "[1.0, 0.5, 0.3333333333333333, 0.25, 0.2, 0.16666666666666666, 0.14285714285714285, 0.125, 0.1111111111111111, 0.1, 0.09090909090909091, 0.08333333333333333, 0.07692307692307693, 0.07142857142857142, 0.06666666666666667, 0.0625, 0.058823529411764705, 0.05555555555555555, 0.05263157894736842, 0.05, 0.047619047619047616, 0.045454545454545456, 0.043478260869565216, 0.041666666666666664]\n"
          ]
        },
        {
          "output_type": "execute_result",
          "data": {
            "text/plain": [
              "[<matplotlib.lines.Line2D at 0x7f76bfc8e990>]"
            ]
          },
          "metadata": {},
          "execution_count": 92
        },
        {
          "output_type": "display_data",
          "data": {
            "image/png": "[encoded data removed]",
            "text/plain": [
              "<Figure size 432x288 with 1 Axes>"
            ]
          },
          "metadata": {
            "needs_background": "light"
          }
        }
      ],
      "source": [
        "'''For the given value x plot the function y = 1/x using list comprehension on y.\n",
        "You can check https://docs.python.org/3/tutorial/datastructures.html#list-comprehensions to learn how to use list comprehension\n",
        "'''\n",
        "\n",
        "x = range(1,25)\n",
        "\n",
        "# BEGIN YOUR CODE\n",
        "y = list(map(lambda x: 1/x, x))\n",
        "print(y)\n",
        "plt.plot(x,y)\n",
        "# END YOUR CODE"
      ]
    },
    {
      "cell_type": "code",
      "execution_count": 93,
      "metadata": {
        "id": "GB4uqfd8K495",
        "colab": {
          "base_uri": "https://localhost:8080/",
          "height": 302
        },
        "outputId": "d17d1117-e6c6-459b-c8dd-7c13c7d5cb6a"
      },
      "outputs": [
        {
          "output_type": "stream",
          "name": "stdout",
          "text": [
            "[0, 1, 4, 9, 16, 25, 36, 49, 64, 81, 100, 121, 144, 169, 196, 225, 256, 289, 324, 361, 400, 441, 484, 529, 576]\n"
          ]
        },
        {
          "output_type": "execute_result",
          "data": {
            "text/plain": [
              "[<matplotlib.lines.Line2D at 0x7f76bfbfe390>]"
            ]
          },
          "metadata": {},
          "execution_count": 93
        },
        {
          "output_type": "display_data",
          "data": {
            "image/png": "[encoded data removed]",
            "text/plain": [
              "<Figure size 432x288 with 1 Axes>"
            ]
          },
          "metadata": {
            "needs_background": "light"
          }
        }
      ],
      "source": [
        "'''For the given value x plot the function y = x^2 using lambda function y.\n",
        "\n",
        "Lambda function is a small anonymous function which consist of a single expression, and is usually used when we need the function for a smaller duration\n",
        "https://realpython.com/python-lambda/\n",
        "'''\n",
        "\n",
        "x = range(25)\n",
        "\n",
        "# BEGIN YOUR CODE\n",
        "y = list(map(lambda x: x**2, x))\n",
        "print(y)\n",
        "plt.plot(x,y)\n",
        "# END YOUR CODE\n"
      ]
    },
    {
      "cell_type": "code",
      "execution_count": 94,
      "metadata": {
        "id": "KN8Yfw4eNVBH",
        "colab": {
          "base_uri": "https://localhost:8080/",
          "height": 332
        },
        "outputId": "6f8d4f48-225e-4eb7-93fc-f377457ea611"
      },
      "outputs": [
        {
          "output_type": "stream",
          "name": "stdout",
          "text": [
            "[0, 1, 4, 9, 16, 25, 36, 49, 64, 81, 100, 121, 144, 169, 196, 225, 256, 289, 324, 361, 400, 441, 484, 529, 576]\n",
            "[0, 1, 8, 27, 64, 125, 216, 343, 512, 729, 1000, 1331, 1728, 2197, 2744, 3375, 4096, 4913, 5832, 6859, 8000, 9261, 10648, 12167, 13824]\n"
          ]
        },
        {
          "output_type": "execute_result",
          "data": {
            "text/plain": [
              "<matplotlib.legend.Legend at 0x7f76bfbd8910>"
            ]
          },
          "metadata": {},
          "execution_count": 94
        },
        {
          "output_type": "display_data",
          "data": {
            "image/png": "[encoded data removed]",
            "text/plain": [
              "<Figure size 432x288 with 1 Axes>"
            ]
          },
          "metadata": {
            "needs_background": "light"
          }
        }
      ],
      "source": [
        "'''On one graph draw two lines:\n",
        "1) Plot the function y = x^2 using lambda function y (use your code from above)\n",
        "2) A scatter plot for y = x^3 using either list comprehension or lambda function for evaluating y\n",
        "'''\n",
        "\n",
        "x = range(25)\n",
        "\n",
        "# BEGIN YOUR CODE\n",
        "print(y)\n",
        "y1 = list(map(lambda x: x**3, x))\n",
        "print(y1)\n",
        "plt.plot(x,y, label = 'line1')\n",
        "plt.plot(x,y1, label = 'line2')\n",
        "plt.title('One graph two lines')\n",
        "plt.legend()\n",
        "# END YOUR CODE"
      ]
    },
    {
      "cell_type": "code",
      "execution_count": 95,
      "metadata": {
        "id": "AEbDCKYH7UfV",
        "colab": {
          "base_uri": "https://localhost:8080/",
          "height": 265
        },
        "outputId": "f4d707ca-7f99-44af-e8b1-5dfb4b14534b"
      },
      "outputs": [
        {
          "output_type": "display_data",
          "data": {
            "image/png": "[encoded data removed]",
            "text/plain": [
              "<Figure size 432x288 with 2 Axes>"
            ]
          },
          "metadata": {
            "needs_background": "light"
          }
        }
      ],
      "source": [
        "from types import CodeType\n",
        "from numpy.ma.core import tan\n",
        "'''Create subplots showing graphs of tan and cot side by side of each other\n",
        "the value of theta ranges from -30 to 30\n",
        "\n",
        "HINT: You might want to utilize np.linespace() or np.arrange() to create smooth curves\n",
        "'''\n",
        "\n",
        "import math\n",
        "\n",
        "# BEGIN YOUR CODE\n",
        "x = np.linspace(-30,30)\n",
        "fig, (p1,p2) = plt.subplots(1,2)\n",
        "p1.plot(x, np.tan(x))\n",
        "p2.plot(x, 1/(np.tan(x)))\n",
        "plt.show()\n",
        "# END YOUR CODE"
      ]
    },
    {
      "cell_type": "code",
      "execution_count": 96,
      "metadata": {
        "id": "rFHxcygcNVBI",
        "colab": {
          "base_uri": "https://localhost:8080/",
          "height": 282
        },
        "outputId": "901aeb87-14c3-4e88-e2fe-f8393520833c"
      },
      "outputs": [
        {
          "output_type": "execute_result",
          "data": {
            "text/plain": [
              "[<matplotlib.lines.Line2D at 0x7f76bfab79d0>]"
            ]
          },
          "metadata": {},
          "execution_count": 96
        },
        {
          "output_type": "display_data",
          "data": {
            "image/png": "[encoded data removed]",
            "text/plain": [
              "<Figure size 432x288 with 1 Axes>"
            ]
          },
          "metadata": {
            "needs_background": "light"
          }
        }
      ],
      "source": [
        "'''Draw a line for given GPAs of students [3.5, 2.3, 3.8, 2.4, 2.9, 3.3] using markers\n",
        "'''\n",
        "\n",
        "# BEGIN_YOUR_CODE\n",
        "GPA = [3.5,2.3,3.8,2.4,2.9,3.3]\n",
        "plt.plot(GPA, linestyle = 'solid')\n",
        "# END_YOUR_CODE"
      ]
    },
    {
      "cell_type": "code",
      "execution_count": 97,
      "metadata": {
        "id": "y37zUtVENVBI",
        "colab": {
          "base_uri": "https://localhost:8080/",
          "height": 565
        },
        "outputId": "4f36df41-79fb-4ca7-ae6d-fd46ffedaf1a"
      },
      "outputs": [
        {
          "output_type": "execute_result",
          "data": {
            "text/plain": [
              "<matplotlib.axes._subplots.AxesSubplot at 0x7f76bfa37fd0>"
            ]
          },
          "metadata": {},
          "execution_count": 97
        },
        {
          "output_type": "display_data",
          "data": {
            "image/png": "[encoded data removed]",
            "text/plain": [
              "<Figure size 432x288 with 1 Axes>"
            ]
          },
          "metadata": {
            "needs_background": "light"
          }
        }
      ],
      "source": [
        "''' Museum (\"museum.csv\"): total number of museums per type\n",
        "\n",
        "Plot a bar graph which shows the total number of museums in USA corresponding to the museum type\n",
        "'''\n",
        "\n",
        "# BEGIN YOUR CODE\n",
        "df['Museum Type'].value_counts().plot(xlabel = 'Museum Type', ylabel = 'Total number of USA museums', kind = 'bar')\n",
        "# END YOUR CODE"
      ]
    },
    {
      "cell_type": "code",
      "execution_count": 98,
      "metadata": {
        "id": "yENY45pIs_S9",
        "colab": {
          "base_uri": "https://localhost:8080/",
          "height": 738
        },
        "outputId": "a54f375a-620c-4f2f-f0de-e678301a7f9d"
      },
      "outputs": [
        {
          "output_type": "execute_result",
          "data": {
            "text/plain": [
              "<matplotlib.axes._subplots.AxesSubplot at 0x7f76bf94c850>"
            ]
          },
          "metadata": {},
          "execution_count": 98
        },
        {
          "output_type": "display_data",
          "data": {
            "image/png": "[encoded data removed]",
            "text/plain": [
              "<Figure size 864x864 with 1 Axes>"
            ]
          },
          "metadata": {
            "needs_background": "light"
          }
        }
      ],
      "source": [
        "from IPython.core.pylabtools import figsize\n",
        "''' Museum (\"museum.csv\"): total number of museums per state\n",
        "\n",
        "Plot a graph which shows the total number of museums per each state (\"State (Physical Location)\")\n",
        "'''\n",
        "\n",
        "# BEGIN YOUR CODE\n",
        "df = df.dropna(axis=0, subset=['State (Physical Location)'])\n",
        "df[\"State (Physical Location)\"].value_counts().plot(xlabel = 'State (Physical Location)', ylabel = 'Total number of USA museums per each state', kind = 'bar', figsize = (12,12))\n",
        "# END YOUR CODE"
      ]
    },
    {
      "cell_type": "markdown",
      "metadata": {
        "id": "Oo6h1NH6R6Pq"
      },
      "source": [
        "#### Results analyzing\n",
        "\n",
        "Analyze the graph and answer the following two questions:\n",
        "\n",
        "**1) What is your inference from the above graph?**\n",
        "\n",
        "*YOUR ANSWER:* Among the total number of museums in USA, more than 600 museums are present in each of the NewYork and California.  \n",
        "**2) Which state has the most number of museum?**\n",
        "\n",
        "*YOUR ANSWER:* NEWYORK\n",
        "\n",
        "**3) Which is the most common type of museum?**\n",
        "\n",
        "*YOUR ANSWER:* HISTORIC PRESERVATION\n"
      ]
    },
    {
      "cell_type": "markdown",
      "metadata": {
        "id": "toxZCPhevnni"
      },
      "source": [
        "## References Used\n",
        "\n",
        "**List below all the references you used to complete the assignment**"
      ]
    },
    {
      "cell_type": "code",
      "execution_count": 98,
      "metadata": {
        "id": "YW_6TvjFrilZ"
      },
      "outputs": [],
      "source": [
        ""
      ]
    }
  ],
  "metadata": {
    "celltoolbar": "Raw Cell Format",
    "colab": {
      "collapsed_sections": [],
      "name": "SriHarsha_Gullapalli_Assignment1.ipynb",
      "provenance": []
    },
    "kernelspec": {
      "display_name": "Python 3",
      "language": "python",
      "name": "python3"
    },
    "language_info": {
      "codemirror_mode": {
        "name": "ipython",
        "version": 3
      },
      "file_extension": ".py",
      "mimetype": "text/x-python",
      "name": "python",
      "nbconvert_exporter": "python",
      "pygments_lexer": "ipython3",
      "version": "3.6.13"
    }
  },
  "nbformat": 4,
  "nbformat_minor": 0
}